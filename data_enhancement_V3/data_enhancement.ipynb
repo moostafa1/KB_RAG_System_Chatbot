{
  "nbformat": 4,
  "nbformat_minor": 0,
  "metadata": {
    "colab": {
      "provenance": []
    },
    "kernelspec": {
      "name": "python3",
      "display_name": "Python 3"
    },
    "language_info": {
      "name": "python"
    }
  },
  "cells": [
    {
      "cell_type": "markdown",
      "source": [
        "#### Load the articles saved data from the drive."
      ],
      "metadata": {
        "id": "MTsfXMdT6tc0"
      }
    },
    {
      "cell_type": "code",
      "source": [
        "from google.colab import drive\n",
        "\n",
        "drive.mount('/content/MyDrive')"
      ],
      "metadata": {
        "colab": {
          "base_uri": "https://localhost:8080/"
        },
        "id": "lD7aU47-5WW8",
        "outputId": "a1399192-bddc-45f2-8f7a-620203a88f3c"
      },
      "execution_count": 1,
      "outputs": [
        {
          "output_type": "stream",
          "name": "stdout",
          "text": [
            "Drive already mounted at /content/MyDrive; to attempt to forcibly remount, call drive.mount(\"/content/MyDrive\", force_remount=True).\n"
          ]
        }
      ]
    },
    {
      "cell_type": "code",
      "source": [
        "import json\n",
        "from langchain.docstore.document import Document\n",
        "\n",
        "\n",
        "# --- Loading the documents from JSONL (when you're ready to work on RAG) ---\n",
        "\n",
        "file_path_jsonl = \"/content/MyDrive/MyDrive/Customer Service Chatbot Assistance/knowledge_base_articles.jsonl\"\n",
        "loaded_documents = []\n",
        "with open(file_path_jsonl, 'r', encoding='utf-8') as f:\n",
        "    for line in f:\n",
        "        data = json.loads(line.strip()) # .strip() removes leading/trailing whitespace, including the newline\n",
        "        # Reconstruct the LangChain Document object\n",
        "        doc = Document(\n",
        "            page_content=data[\"page_content\"],\n",
        "            metadata=data[\"metadata\"]\n",
        "        )\n",
        "        loaded_documents.append(doc)\n",
        "\n",
        "print(f\"\\nLoaded {len(loaded_documents)} documents from {file_path_jsonl}\")\n",
        "print(\"First loaded document example:\")\n",
        "print(loaded_documents[0])\n",
        "print(f\"Type of loaded document: {type(loaded_documents[0])}\")\n",
        "\n",
        "# You can verify that the content and metadata are correctly loaded\n",
        "# print(loaded_documents[0].page_content)\n",
        "# print(loaded_documents[0].metadata['title'])"
      ],
      "metadata": {
        "colab": {
          "base_uri": "https://localhost:8080/"
        },
        "id": "_IQRMlhP5WaB",
        "outputId": "5d8871bd-0b2e-4c6f-d62e-c087275a9398"
      },
      "execution_count": 2,
      "outputs": [
        {
          "output_type": "stream",
          "name": "stdout",
          "text": [
            "\n",
            "Loaded 296 documents from /content/MyDrive/MyDrive/Customer Service Chatbot Assistance/knowledge_base_articles.jsonl\n",
            "First loaded document example:\n",
            "page_content='Many users including ourselves, are having problems installing adobe flash with firefox, it keeps displaying the security errors from Internet explorer although you're installing it for firefox, correct? well the simple and quickiest solution is to use this full installer instead on your windows VPS or dedicated server:http://download.macromedia.com/pub/flashplayer/latest/help/install_flash_player.exe' metadata={'title': 'Adobe flash Internet explorer security error', 'source': 'https://clients.hostsailor.com/index.php?rp=/knowledgebase/130/Adobe-flash-Internet-explorer-security-error.html'}\n",
            "Type of loaded document: <class 'langchain_core.documents.base.Document'>\n"
          ]
        }
      ]
    },
    {
      "cell_type": "code",
      "source": [
        "loaded_documents[:15]"
      ],
      "metadata": {
        "colab": {
          "base_uri": "https://localhost:8080/"
        },
        "id": "cnKWhjAhYLVv",
        "outputId": "78edc30c-89fc-4ae4-fa3c-9523880af7b6"
      },
      "execution_count": 4,
      "outputs": [
        {
          "output_type": "execute_result",
          "data": {
            "text/plain": [
              "[Document(metadata={'title': 'Adobe flash Internet explorer security error', 'source': 'https://clients.hostsailor.com/index.php?rp=/knowledgebase/130/Adobe-flash-Internet-explorer-security-error.html'}, page_content=\"Many users including ourselves, are having problems installing adobe flash with firefox, it keeps displaying the security errors from Internet explorer although you're installing it for firefox, correct? well the simple and quickiest solution is to use this full installer instead on your windows VPS or dedicated server:http://download.macromedia.com/pub/flashplayer/latest/help/install_flash_player.exe\"),\n",
              " Document(metadata={'title': 'Disk space upgrade', 'source': 'https://clients.hostsailor.com/index.php?rp=/knowledgebase/129/Disk-space-upgrade.html'}, page_content=\"Once you upgrade your VPS the RAM and CPU are easily upgradable, with the disk it's a different matter:With OpenVZ your disk space will be upgraded using the same partition.With XEN Linux we can also upgrade it using the same partition.With KVM Linux, we have to add a new partition using the extra disk space.With KVM Windows, once the upgrade is completed, we can resize it via the disk management feature under the windows tools.\"),\n",
              " Document(metadata={'title': 'Does your VPS support IPv6?', 'source': 'https://clients.hostsailor.com/index.php?rp=/knowledgebase/6/Does-your-VPS-support-IPv6.html'}, page_content='Yes, our vps support IPv6 just send us a ticket to request one or more ipv6.'),\n",
              " Document(metadata={'title': \"HostSailor's private DNS\", 'source': 'https://clients.hostsailor.com/index.php?rp=/knowledgebase/122/HostSailorandsharp039s-private-DNS.html'}, page_content=\"Our VPS and dedicated servers are setup using our own DNS IP addresses, however if by mistake we didn't deliver it using our own DNS IP addresses, then feel free to use them:HostSailor's private DNS IP addresses (IPv4) are as follows:185.82.201.155185.45.193.140Please note, that you can only use them on HostSailor's services, it will not work for any public use.For Linux a quick solution would be:cat > /etc/resolv.confnameserver\\xa0185.82.201.155nameserver\\xa0185.45.193.140\"),\n",
              " Document(metadata={'title': 'How is VSwap Calculated?', 'source': 'https://clients.hostsailor.com/index.php?rp=/knowledgebase/7/How-is-VSwap-Calculated.html'}, page_content='Vswap is calculated from the amount of burst memory you add to a virtual server. For example, if you specify 512 MB Ram and 1024 MB Burst the Vswap would be 512 MB (1024 MB -512 MB =512 MB).'),\n",
              " Document(metadata={'title': 'List Of Operating System Templates', 'source': 'https://clients.hostsailor.com/index.php?rp=/knowledgebase/4/List-Of-Operating-System-Templates.html'}, page_content='OpenVZ:centos-5-x86 (i386)centos-5-x86_64 (x86_64)centos-6-x86 (i386)centos-6-x86_64 (x86_64)centos-7-x86_64 (x86_64)debian-6.0-x86 (i386)debian-6.0-x86_64 (x86_64)debian-7.0-x86 (i386)debian-7.0-x86_64 (x86_64)scientific-6-x86 (i386)scientific-6-x86_64 (x86_64)ubuntu-12.04-x86(i386)ubuntu-12.04-x86_64(x86_64)ubuntu-14.04-x86 (i386)ubuntu-14.04-x86_64 (x86_64)fedora-19-x86 (i386)fedora-19-x86_64 (x86_64)fedora-20-x86 (i386)fedora-20-x86_64 (x86_64)suse-12.3-x86 (i386)suse-12.3-x86_64 (x86_64)suse-13.1-x86 (i386)suse-13.1-x86_64 (x86_64)XenPV:opensuse-13.1-x86_64 (x86_64)slackware-14.1-x86_64 (x86_64)gentoo-2014.04-x86_64 (x86_64)centos-6.5-x86_64 (x86_64)debian-7.4-x86_64 (x86_64)centos-6.5-x86_64-solus-gnome (x86_64)centos-6.5-x86_64-solus-cpanel (x86_64)fedora-20-x86_64 (x86_64)scientific-6.5-x86_64 (x86_64)debian-6.0-x86 (i386)ubuntu-13.10-x86_64 (x86_64)KVM:linux-centos-5.8-x86-min-gen2-v1 (i386)linux-centos-5.8-x86_64-min-gen2-v1 (x86_64)linux-centos-6.5-x86-min-gen2-v1 (i386)linux-centos-6.5-x86_64-min-gen2-v1 (x86_64)linux-centos-7.0.1406-x86_64-min-gen2-v2 (x86_64)linux-ubuntu-12.04-server-x86-min-gen2-v1 (i386)linux-ubuntu-12.04-server-x86_64-min-gen2-v1 (x86_64)linux-ubuntu-14.04-server-x86_64-min-gen2-v1 (x86_64)linux-ubuntu-14.04-server-x86-min-gen2-v1 (i386)linux-scilinux-6.3-x86-min-gen2-v1 (i386)linux-scilinux-6.3-x86_64-min-gen2-v1 (x86_64)windows-server-2008R2-dc-x86_64-gen2-v1 (x86_64)windows-server-2012R2-dc-x86_64-gen2-v1(x86_64)linux-debian-6.0.6-x86-min-gen2-v1 (i386)linux-debian-6.0.6-x86_64-min-gen2-v1 (x86_64)linux-debian-7.3.0-x86-min-gen2-v1 (i386)linux-debian-7.3.0-x86_64-min-gen2-v1 (x86_64)linux-fedora-17-x86-min-gen2-v1 (i386)linux-fedora-17-x86_64-min-gen2-v1 (x86_64)linux-fedora-20-x86-min-gen2-v1 (i386)finux-fedora-20-x86_64-min-gen2-v1 (x86_64)linux-opensuse-12.2-x86-min-gen2-v1 (i386)linux-opensuse-12.2-x86_64-min-gen2-v1 (x86_64)'),\n",
              " Document(metadata={'title': 'SolusVM Error \"You Have Been Blacklisted - Contact Support.\"', 'source': 'https://clients.hostsailor.com/index.php?rp=/knowledgebase/44/SolusVM-Error-You-Have-Been-Blacklisted---Contact-Support..html'}, page_content='Failed to login to SolusVM many times and you got this error.You Have Been Blacklisted - Contact SupportSolutions:You need to:Check your SolusVM usernameTry to reset your password at the SolusVM login pageTry again in 30 minutes and login again.If you still having problem after following the above solutions, submit a support ticket through our client area https://clients.hostsailor.com'),\n",
              " Document(metadata={'title': 'Where is my VPS information email?', 'source': 'https://clients.hostsailor.com/index.php?rp=/knowledgebase/5/Where-is-my-VPS-information-email.html'}, page_content=\"You should receive an email from us with your VPS information as soon as you pay. If you have paid and have not received your VPS information email, please check your spam/junk mail, otherwise under https://clients.hostsailor.com/clientarea.php?action=emails after logging on with your email and password, if you still don't see the mail, please open a ticket.\"),\n",
              " Document(metadata={'title': \"You can't use special characters for the for resetting password in SolusVM\", 'source': 'https://clients.hostsailor.com/index.php?rp=/knowledgebase/8/You-canandsharp039t-use-special-characters-for-the-for-resetting-password-in-SolusVM.html'}, page_content='You can\\'t use special characters for the password. Solusvm client area supports alphanumeric passwords only. You can\\'t use any special characters password(including !) from client panel. If you wish to set a highly secured password for you VPS you can follow the below steps.1. Set a simple password (something like \"changeme\") via SolusVM panel.2. Login to the server using SSHssh server IPUser: rootPassword: changeme3. Run the following commandpasswordIt will prompt you to enter passwordNow you can use the new password.'),\n",
              " Document(metadata={'title': 'How To Install and Use Docker on Ubuntu 16.04', 'source': 'https://clients.hostsailor.com/index.php?rp=/knowledgebase/163/-How-To-Install-and-Use-Docker-on-Ubuntu-16.04.html'}, page_content='IntroductionDocker is an application that makes it simple and easy to run application processes in a container, which are like virtual machines, only more portable, more resource-friendly, and more dependent on the host operating system. For a detailed introduction to the different components of a Docker container, check outThe Docker Ecosystem: An Introduction to Common Components.There are two methods for installing Docker on Ubuntu 16.04. One method involves installing it on an existing installation of the operating system. The other involves spinning up a server with a tool calledDocker Machinethat auto-installs Docker on it.In this tutorial, you\\'ll learn how to install and use it on an existing installation of Ubuntu 16.04.PrerequisitesTo follow this tutorial, you will need the following:64-bit Ubuntu 16.04 serverNon-root user with sudo privilegesInitial Setup Guide for Ubuntu 16.04explains how to set this up.)Note:Docker requires a 64-bit version of Ubuntu as well as a kernel version equal to or greater than 3.10. The default 64-bit Ubuntu 16.04 server meets these requirements.All the commands in this tutorial should be run as a non-root user. If root access is required for the command, it will be preceded bysudo.Initial Setup Guide for Ubuntu 16.04explains how to add users and give them sudo access.Step 1 — Installing DockerThe Docker installation package available in the official Ubuntu 16.04 repository may not be the latest version. To get the latest and greatest version, install Docker from the official Docker repository. This section shows you how to do just that.First, add the GPG key for the official Docker repository to the system:curl -fsSL https://download.docker.com/linux/ubuntu/gpg | sudo apt-key add -Add the Docker repository to APT sources:sudo add-apt-repository \"deb [arch=amd64] https://download.docker.com/linux/ubuntu $(lsb_release -cs) stable\"Next, update the package database with the Docker packages from the newly added repo:sudo apt-get updateMake sure you are about to install from the Docker repo instead of the default Ubuntu 16.04 repo:apt-cache policy docker-ceYou should see output similar to the follow:Output of apt-cache policy docker-cedocker-ce:\\r\\n  Installed: (none)\\r\\n  Candidate: 17.03.1~ce-0~ubuntu-xenial\\r\\n  Version table:\\r\\n     17.03.1~ce-0~ubuntu-xenial 500\\r\\n        500 https://download.docker.com/linux/ubuntu xenial/stable amd64 Packages\\r\\n     17.03.0~ce-0~ubuntu-xenial 500\\r\\n        500 https://download.docker.com/linux/ubuntu xenial/stable amd64 PackagesNotice thatdocker-ceis not installed, but the candidate for installation is from the Docker repository for Ubuntu 16.04. Thedocker-ceversion number might be different.Finally, install Docker:sudo apt-get install -y docker-ceDocker should now be installed, the daemon started, and the process enabled to start on boot. Check that it\\'s running:sudo systemctl status dockerThe output should be similar to the following, showing that the service is active and running:Output● docker.service - Docker Application Container Engine\\r\\n   Loaded: loaded (/lib/systemd/system/docker.service; enabled; vendor preset: enabled)\\r\\n   Active:active (running)since Sun 2016-05-01 06:53:52 CDT; 1 weeks 3 days ago\\r\\n     Docs: https://docs.docker.com\\r\\n Main PID: 749 (docker)Installing Docker now gives you not just the Docker service (daemon) but also thedockercommand line utility, or the Docker client. We\\'ll explore how to use thedockercommand later in this tutorial.Step 2 — Executing the Docker Command Without Sudo (Optional)By default, running thedockercommand requires root privileges — that is, you have to prefix the command withsudo. It can also be run by a user in thedockergroup, which is automatically created during the installation of Docker. If you attempt to run thedockercommand without prefixing it withsudoor without being in the docker group, you\\'ll get an output like this:Outputdocker: Cannot connect to the Docker daemon. Is the docker daemon running on this host?.\\r\\nSee \\'docker run --help\\'.If you want to avoid typingsudowhenever you run thedockercommand, add your username to thedockergroup:sudo usermod -aG docker ${USER}To apply the new group membership, you can log out of the server and back in, or you can type the following:su - ${USER}You will be prompted to enter your user\\'s password to continue. Afterwards, you can confirm that your user is now added to thedockergroup by typing:id -nGOutputsammysudo dockerIf you need to add a user to thedockergroup that you\\'re not logged in as, declare that username explicitly using:sudo usermod -aG dockerusernameThe rest of this article assumes you are running thedockercommand as a user in the docker user group. If you choose not to, please prepend the commands withsudo.Step 3 — Using the Docker CommandWith Docker installed and working, now\\'s the time to become familiar with the command line utility. Usingdockerconsists of passing it a chain of options and commands followed by arguments. The syntax takes this form:docker [option] [command] [arguments]To view all available subcommands, type:dockerAs of Docker 1.11.1, the complete list of available subcommands includes:Outputattach    Attach to a running container\\r\\n    build     Build an image from a Dockerfile\\r\\n    commit    Create a new image from a container\\'s changes\\r\\n    cp        Copy files/folders between a container and the local filesystem\\r\\n    create    Create a new container\\r\\n    diff      Inspect changes on a container\\'s filesystem\\r\\n    events    Get real time events from the server\\r\\n    exec      Run a command in a running container\\r\\n    export    Export a container\\'s filesystem as a tar archive\\r\\n    history   Show the history of an image\\r\\n    images    List images\\r\\n    import    Import the contents from a tarball to create a filesystem image\\r\\n    info      Display system-wide information\\r\\n    inspect   Return low-level information on a container or image\\r\\n    kill      Kill a running container\\r\\n    load      Load an image from a tar archive or STDIN\\r\\n    login     Log in to a Docker registry\\r\\n    logout    Log out from a Docker registry\\r\\n    logs      Fetch the logs of a container\\r\\n    network   Manage Docker networks\\r\\n    pause     Pause all processes within a container\\r\\n    port      List port mappings or a specific mapping for the CONTAINER\\r\\n    ps        List containers\\r\\n    pull      Pull an image or a repository from a registry\\r\\n    push      Push an image or a repository to a registry\\r\\n    rename    Rename a container\\r\\n    restart   Restart a container\\r\\n    rm        Remove one or more containers\\r\\n    rmi       Remove one or more images\\r\\n    run       Run a command in a new container\\r\\n    save      Save one or more images to a tar archive\\r\\n    search    Search the Docker Hub for images\\r\\n    start     Start one or more stopped containers\\r\\n    stats     Display a live stream of container(s) resource usage statistics\\r\\n    stop      Stop a running container\\r\\n    tag       Tag an image into a repository\\r\\n    top       Display the running processes of a container\\r\\n    unpause   Unpause all processes within a container\\r\\n    update    Update configuration of one or more containers\\r\\n    version   Show the Docker version information\\r\\n    volume    Manage Docker volumes\\r\\n    wait      Block until a container stops, then print its exit codeTo view the switches available to a specific command, type:dockerdocker-subcommand--helpTo view system-wide information about Docker, use:docker infoStep 4 — Working with Docker ImagesDocker containers are run from Docker images. By default, it pulls these images from Docker Hub, a Docker registry managed by Docker, the company behind the Docker project. Anybody can build and host their Docker images on Docker Hub, so most applications and Linux distributions you\\'ll need to run Docker containers have images that are hosted on Docker Hub.To check whether you can access and download images from Docker Hub, type:docker run hello-worldThe output, which should include the following, should indicate that Docker in working correctly:OutputHello from Docker.\\r\\nThis message shows that your installation appears to be working correctly.\\r\\n...You can search for images available on Docker Hub by using thedockercommand with thesearchsubcommand. For example, to search for the Ubuntu image, type:docker search ubuntuThe script will crawl Docker Hub and return a listing of all images whose name match the search string. In this case, the output will be similar to this:OutputNAME                              DESCRIPTION                                     STARS     OFFICIAL   AUTOMATED\\r\\nubuntu                            Ubuntu is a Debian-based Linux operating s...   3808      [OK]       \\r\\nubuntu-upstart                    Upstart is an event-based replacement for ...   61        [OK]       \\r\\ntorusware/speedus-ubuntu          Always updated official Ubuntu docker imag...   25                   [OK]\\r\\nrastasheep/ubuntu-sshd            Dockerized SSH service, built on top of of...   24                   [OK]\\r\\nubuntu-debootstrap                debootstrap --variant=minbase --components...   23        [OK]       \\r\\nnickistre/ubuntu-lamp             LAMP server on Ubuntu                           6                    [OK]\\r\\nnickistre/ubuntu-lamp-wordpress   LAMP on Ubuntu with wp-cli installed            5                    [OK]\\r\\nnuagebec/ubuntu                   Simple always updated Ubuntu docker images...   4                    [OK]\\r\\nnimmis/ubuntu                     This is a docker images different LTS vers...   4                    [OK]\\r\\nmaxexcloo/ubuntu                  Docker base image built on Ubuntu with Sup...   2                    [OK]\\r\\nadmiringworm/ubuntu               Base ubuntu images based on the official u...   1                    [OK]\\r\\n\\r\\n...In theOFFICIALcolumn,OKindicates an image built and supported by the company behind the project. Once you\\'ve identified the image that you would like to use, you can download it to your computer using thepullsubcommand, like so:docker pull ubuntuAfter an image has been downloaded, you may then run a container using the downloaded image with therunsubcommand. If an image has not been downloaded whendockeris executed with therunsubcommand, the Docker client will first download the image, then run a container using it:docker run ubuntuTo see the images that have been downloaded to your computer, type:docker imagesThe output should look similar to the following:OutputREPOSITORY          TAG                 IMAGE ID            CREATED             SIZE\\r\\nubuntu              latest              c5f1cf30c96b        7 days ago          120.8 MB\\r\\nhello-world         latest              94df4f0ce8a4        2 weeks ago         967 BAs you\\'ll see later in this tutorial, images that you use to run containers can be modified and used to generate new images, which may then be uploaded (pushedis the technical term) to Docker Hub or other Docker registries.Step 5 — Running a Docker ContainerThehello-worldcontainer you ran in the previous is an example of a container that runs and exits, after emitting a test message. Containers, however, can be much more useful than that, and they can be interactive. After all, they are similar to virtual machines, only more resource-friendly.As an example, let\\'s run a container using the latest image of Ubuntu. The combination of the-iand-tswitches gives you interactive shell access into the container:docker run -it ubuntuYour command prompt should change to reflect the fact that you\\'re now working inside the container and should take this form:Outputroot@d9b100f2f636:/#Important:Note the container id in the command prompt. In the above example, it isd9b100f2f636.Now you may run any command inside the container. For example, let\\'s update the package database inside the container. No need to prefix any command withsudo, because you\\'re operating inside the container with root privileges:apt-get updateThen install any application in it. Let\\'s install NodeJS, for example.apt-get install -y nodejsStep 6 — Committing Changes in a Container to a Docker ImageWhen you start up a Docker image, you can create, modify, and delete files just like you can with a virtual machine. The changes that you make will only apply to that container. You can start and stop it, but once you destroy it with thedocker rmcommand, the changes will be lost for good.This section shows you how to save the state of a container as a new Docker image.After installing nodejs inside the Ubuntu container, you now have a container running off an image, but the container is different from the image you used to create it.To save the state of the container as a new image, first exit from it:exitThen commit the changes to a new Docker image instance using the following command. The-mswitch is for the commit message that helps you and others know what changes you made, while-ais used to specify the author. The container ID is the one you noted earlier in the tutorial when you started the interactive docker session. Unless you created additional repositories on Docker Hub, the repository is usually your Docker Hub username:docker commit -m \"What did you do to the image\" -a \"Author Name\"container-idrepository/new_image_nameFor example:<ul class=\"prefixed\" sty'),\n",
              " Document(metadata={'title': \"Activate Let's Encrypt on ISP Manager\", 'source': 'https://clients.hostsailor.com/index.php?rp=/knowledgebase/252/Activate-Letandsharp039s-Encrypt-on-ISP-Manager.html'}, page_content=\"Let's Encrypt is a widely used free SSL certificate provider that can be integrated with most of the hosting control panels. Here I am describing the steps about how to do it on ISP Manager control panel. By default, it won't be available with ISP Manager. We need to install it from the 'Modules' section. Here I am providing the steps to enable and install a certificate.Login to ISP Manager as root.Go to 'Integration' and click on 'Modules'.There you can see the option 'Let’s Encrypt' under the 'Integration' section.Click on install and wait for a minute. It will install it and press OK after.The option will be available under 'Web-server settings' section. Select the 'SSL Certificates' option from there.There you can select the website you need to set the certificate for. Choose the options as per your requirement and press OK.It will take some time to get it activated. Please make sure that the DNS has been pointed to the same server before doing the activation.You can view the video KB for this topic by clickinghere.\"),\n",
              " Document(metadata={'title': 'Adding Server Credentials from Client Area', 'source': 'https://clients.hostsailor.com/index.php?rp=/knowledgebase/189/Adding-Server-Credentials-from-Client-Area.html'}, page_content=\"The exchange of passwords in plain text format is not at all a safer way nowadays.\\xa0 In case if we need to provide the server passwords, Control panel logins etc. to the support team as a part of troubleshooting any server related issues, we have added a new feature in the client area itself. You can provide the\\xa0details from your client area and stores the passwords in an encrypted format and so that it will be safe. You can watch the video tutorial of this by clickinghere.Here are the steps to follow:Either we can add the credentials during the time of creating a ticket or we can add it later after creating a ticket.Providing the details during the time of ticket creation:a. Login to your client area.b. Go to Open Ticket option.c. Provide the required details and Submit the ticket.d. There you can see the option 'Submit Credentials' in the next window.e. Click here and there you can add the SSH Logins, Control panel details, FTP details etc. as per the requirement and press Submit/Update Login Credentials Button once you are done.Providing the details after creating a ticket:If you forgot\\xa0to update the credentials during the time of ticket creation, you can add those from the client area itself by accessing the opened ticket.a. Login to your client area.b. Go to Support > Tickets section.c. Click on the corresponding\\xa0ticket you need to add the credentials.d. There you can see the 'Submit/Update Credentials' option.e. Click here and there you can add the SSH Logins, Control panel details, FTP details etc. as per the requirement and press Submit/Update Login Credentials Button once you are done.\"),\n",
              " Document(metadata={'title': \"Adding bulk amount of additional IP's in CentOS\", 'source': 'https://clients.hostsailor.com/index.php?rp=/knowledgebase/229/Adding-bulk-amount-of-additional-IPandsharp039s-in-CentOS.html'}, page_content=\"If we have a dedicated server with Centos 6 or Centos 7 and we need to add a full /24 range of IP's in it, we can do it by adding it as a range by mentioning the start IP and end IP. An example is provided below:If you own 192.168.125.0/24, and you need to add all of the IP's in that range, we can add it like the following:Create a file '/etc/sysconfig/network-scripts/ifcfg-eth0-range0' based on which ethernet card you are using.vi /etc/sysconfig/network-scripts/ifcfg-eth0-range0Add the following lines in the file:IPADDR_START=192.168.125.3IPADDR_END=192.168.125.254NETMASK=255.255.255.255CLONENUM_START=1Here you need to replace the start IP and end IP based on what you own.If you needed to add first 100 IP's only,\\xa0 \\xa0you can set the first IP as192.168.125.3 and end IP as192.168.125.102. But make sure that any IP's in between these are not used somewhere else.3. Once the configuration is added you can restart the network service or reboot the server. It is better to have IPMI access before doing such changes.You can watch the video tutorial for the same by clickinghere.\"),\n",
              " Document(metadata={'title': 'Adding file manager in VestaCP', 'source': 'https://clients.hostsailor.com/index.php?rp=/knowledgebase/234/Adding-file-manager-in-VestaCP.html'}, page_content='The Vesta CP is a commonly used web hosting control panel in Linux OS. There is no file manager is there by default in Vesta CP. Here is a simple trick to enable the file manager on the panel.Log in as root to a Vesta installed server via terminal.Open the configuration file using any text editor:vi\\xa0/usr/local/vesta/conf/vesta.confAdd the following line at the end of that configuration file:FILEMANAGER_KEY=’ILOVEREO’Save and exit the file.Try to log out and re-login to Vesta panel and you will be able to see the file manager option now.You can watch the video KB of this tutorial by clickinghere.'),\n",
              " Document(metadata={'title': 'Backup and Restore cPanel Accounts via SSH', 'source': 'https://clients.hostsailor.com/index.php?rp=/knowledgebase/162/Backup-and-Restore-cPanel-Accounts-via-SSH.html'}, page_content='You can watch the video tutorial for this topic by clickinghere.a. How to create a backup of a cPanel Account via SSH?1. Log-in to the SSH as the Root user.2. Since it will be a time-consuming task, it is better to run it on screen.3. Enter the following command string on the command line interface:/scripts/pkgacct usernameThe account backup will be created in the current directory you are in. So please try to\\xa0run the command from a directory in which the partition has enough free space available.b. How to Restore a cPanel Account via SSH?Log in to the server via SSH and enter the following command from the directory in which the backup files are located./scripts/restorepkg usernameIf the backup file name is not in the standard cPanel format(eg: cpmove-username.tar.gz), you need to specify the filename/path with the command like below:/scripts/restorepkg username /home/backupname.tar.gzIf the cPanel account is already created on the server and you are running the restoration later, you might need to use the force option as well./scripts/restorepkg --forceusername /home/backupname.tar.gz')]"
            ]
          },
          "metadata": {},
          "execution_count": 4
        }
      ]
    },
    {
      "cell_type": "markdown",
      "source": [
        "### cleaning the dataset.\n",
        "- remove the html tags.\n",
        "- add the links inside articles to metadata and remove it from the article itself."
      ],
      "metadata": {
        "id": "A1INvKc9cQy4"
      }
    },
    {
      "cell_type": "code",
      "source": [
        "!cp \"/content/MyDrive/MyDrive/Customer Service Chatbot Assistance/knowledge_base_articles.jsonl\" knowledge_base_articles.jsonl"
      ],
      "metadata": {
        "id": "vhroV6bNYNm1"
      },
      "execution_count": 5,
      "outputs": []
    },
    {
      "cell_type": "markdown",
      "source": [
        "#### Adding the `type` in metadata for the `FAQ` or `Tutorial`"
      ],
      "metadata": {
        "id": "EVPxnpBhKj_H"
      }
    },
    {
      "cell_type": "code",
      "source": [
        "def tag_documents_with_type(documents):\n",
        "    \"\"\"\n",
        "    Adds a 'type' field to each document's metadata.\n",
        "    First 9 documents are tagged as 'FAQ', the rest as 'Tutorial'.\n",
        "\n",
        "    Parameters:\n",
        "        documents (list): List of Document objects.\n",
        "\n",
        "    Returns:\n",
        "        list: Modified list with updated metadata.\n",
        "    \"\"\"\n",
        "    for i, doc in enumerate(documents):\n",
        "        doc.metadata['type'] = 'FAQ' if i < 9 else 'Tutorial'\n",
        "    return documents\n",
        "\n",
        "\n",
        "add_type_docs = tag_documents_with_type(loaded_documents)"
      ],
      "metadata": {
        "id": "8PrcH39dKiuo"
      },
      "execution_count": 6,
      "outputs": []
    },
    {
      "cell_type": "code",
      "source": [
        "len(add_type_docs)"
      ],
      "metadata": {
        "colab": {
          "base_uri": "https://localhost:8080/"
        },
        "id": "GT3h70kIM6T2",
        "outputId": "2f46b860-d8a6-4f44-c2ff-98ef8da64c60"
      },
      "execution_count": 7,
      "outputs": [
        {
          "output_type": "execute_result",
          "data": {
            "text/plain": [
              "296"
            ]
          },
          "metadata": {},
          "execution_count": 7
        }
      ]
    },
    {
      "cell_type": "code",
      "source": [
        "add_type_docs[:15]"
      ],
      "metadata": {
        "colab": {
          "base_uri": "https://localhost:8080/"
        },
        "id": "nFXLOduDM7r-",
        "outputId": "2ec30dd8-7f5e-405c-ce84-00acdaead23f"
      },
      "execution_count": 8,
      "outputs": [
        {
          "output_type": "execute_result",
          "data": {
            "text/plain": [
              "[Document(metadata={'title': 'Adobe flash Internet explorer security error', 'source': 'https://clients.hostsailor.com/index.php?rp=/knowledgebase/130/Adobe-flash-Internet-explorer-security-error.html', 'type': 'FAQ'}, page_content=\"Many users including ourselves, are having problems installing adobe flash with firefox, it keeps displaying the security errors from Internet explorer although you're installing it for firefox, correct? well the simple and quickiest solution is to use this full installer instead on your windows VPS or dedicated server:http://download.macromedia.com/pub/flashplayer/latest/help/install_flash_player.exe\"),\n",
              " Document(metadata={'title': 'Disk space upgrade', 'source': 'https://clients.hostsailor.com/index.php?rp=/knowledgebase/129/Disk-space-upgrade.html', 'type': 'FAQ'}, page_content=\"Once you upgrade your VPS the RAM and CPU are easily upgradable, with the disk it's a different matter:With OpenVZ your disk space will be upgraded using the same partition.With XEN Linux we can also upgrade it using the same partition.With KVM Linux, we have to add a new partition using the extra disk space.With KVM Windows, once the upgrade is completed, we can resize it via the disk management feature under the windows tools.\"),\n",
              " Document(metadata={'title': 'Does your VPS support IPv6?', 'source': 'https://clients.hostsailor.com/index.php?rp=/knowledgebase/6/Does-your-VPS-support-IPv6.html', 'type': 'FAQ'}, page_content='Yes, our vps support IPv6 just send us a ticket to request one or more ipv6.'),\n",
              " Document(metadata={'title': \"HostSailor's private DNS\", 'source': 'https://clients.hostsailor.com/index.php?rp=/knowledgebase/122/HostSailorandsharp039s-private-DNS.html', 'type': 'FAQ'}, page_content=\"Our VPS and dedicated servers are setup using our own DNS IP addresses, however if by mistake we didn't deliver it using our own DNS IP addresses, then feel free to use them:HostSailor's private DNS IP addresses (IPv4) are as follows:185.82.201.155185.45.193.140Please note, that you can only use them on HostSailor's services, it will not work for any public use.For Linux a quick solution would be:cat > /etc/resolv.confnameserver\\xa0185.82.201.155nameserver\\xa0185.45.193.140\"),\n",
              " Document(metadata={'title': 'How is VSwap Calculated?', 'source': 'https://clients.hostsailor.com/index.php?rp=/knowledgebase/7/How-is-VSwap-Calculated.html', 'type': 'FAQ'}, page_content='Vswap is calculated from the amount of burst memory you add to a virtual server. For example, if you specify 512 MB Ram and 1024 MB Burst the Vswap would be 512 MB (1024 MB -512 MB =512 MB).'),\n",
              " Document(metadata={'title': 'List Of Operating System Templates', 'source': 'https://clients.hostsailor.com/index.php?rp=/knowledgebase/4/List-Of-Operating-System-Templates.html', 'type': 'FAQ'}, page_content='OpenVZ:centos-5-x86 (i386)centos-5-x86_64 (x86_64)centos-6-x86 (i386)centos-6-x86_64 (x86_64)centos-7-x86_64 (x86_64)debian-6.0-x86 (i386)debian-6.0-x86_64 (x86_64)debian-7.0-x86 (i386)debian-7.0-x86_64 (x86_64)scientific-6-x86 (i386)scientific-6-x86_64 (x86_64)ubuntu-12.04-x86(i386)ubuntu-12.04-x86_64(x86_64)ubuntu-14.04-x86 (i386)ubuntu-14.04-x86_64 (x86_64)fedora-19-x86 (i386)fedora-19-x86_64 (x86_64)fedora-20-x86 (i386)fedora-20-x86_64 (x86_64)suse-12.3-x86 (i386)suse-12.3-x86_64 (x86_64)suse-13.1-x86 (i386)suse-13.1-x86_64 (x86_64)XenPV:opensuse-13.1-x86_64 (x86_64)slackware-14.1-x86_64 (x86_64)gentoo-2014.04-x86_64 (x86_64)centos-6.5-x86_64 (x86_64)debian-7.4-x86_64 (x86_64)centos-6.5-x86_64-solus-gnome (x86_64)centos-6.5-x86_64-solus-cpanel (x86_64)fedora-20-x86_64 (x86_64)scientific-6.5-x86_64 (x86_64)debian-6.0-x86 (i386)ubuntu-13.10-x86_64 (x86_64)KVM:linux-centos-5.8-x86-min-gen2-v1 (i386)linux-centos-5.8-x86_64-min-gen2-v1 (x86_64)linux-centos-6.5-x86-min-gen2-v1 (i386)linux-centos-6.5-x86_64-min-gen2-v1 (x86_64)linux-centos-7.0.1406-x86_64-min-gen2-v2 (x86_64)linux-ubuntu-12.04-server-x86-min-gen2-v1 (i386)linux-ubuntu-12.04-server-x86_64-min-gen2-v1 (x86_64)linux-ubuntu-14.04-server-x86_64-min-gen2-v1 (x86_64)linux-ubuntu-14.04-server-x86-min-gen2-v1 (i386)linux-scilinux-6.3-x86-min-gen2-v1 (i386)linux-scilinux-6.3-x86_64-min-gen2-v1 (x86_64)windows-server-2008R2-dc-x86_64-gen2-v1 (x86_64)windows-server-2012R2-dc-x86_64-gen2-v1(x86_64)linux-debian-6.0.6-x86-min-gen2-v1 (i386)linux-debian-6.0.6-x86_64-min-gen2-v1 (x86_64)linux-debian-7.3.0-x86-min-gen2-v1 (i386)linux-debian-7.3.0-x86_64-min-gen2-v1 (x86_64)linux-fedora-17-x86-min-gen2-v1 (i386)linux-fedora-17-x86_64-min-gen2-v1 (x86_64)linux-fedora-20-x86-min-gen2-v1 (i386)finux-fedora-20-x86_64-min-gen2-v1 (x86_64)linux-opensuse-12.2-x86-min-gen2-v1 (i386)linux-opensuse-12.2-x86_64-min-gen2-v1 (x86_64)'),\n",
              " Document(metadata={'title': 'SolusVM Error \"You Have Been Blacklisted - Contact Support.\"', 'source': 'https://clients.hostsailor.com/index.php?rp=/knowledgebase/44/SolusVM-Error-You-Have-Been-Blacklisted---Contact-Support..html', 'type': 'FAQ'}, page_content='Failed to login to SolusVM many times and you got this error.You Have Been Blacklisted - Contact SupportSolutions:You need to:Check your SolusVM usernameTry to reset your password at the SolusVM login pageTry again in 30 minutes and login again.If you still having problem after following the above solutions, submit a support ticket through our client area https://clients.hostsailor.com'),\n",
              " Document(metadata={'title': 'Where is my VPS information email?', 'source': 'https://clients.hostsailor.com/index.php?rp=/knowledgebase/5/Where-is-my-VPS-information-email.html', 'type': 'FAQ'}, page_content=\"You should receive an email from us with your VPS information as soon as you pay. If you have paid and have not received your VPS information email, please check your spam/junk mail, otherwise under https://clients.hostsailor.com/clientarea.php?action=emails after logging on with your email and password, if you still don't see the mail, please open a ticket.\"),\n",
              " Document(metadata={'title': \"You can't use special characters for the for resetting password in SolusVM\", 'source': 'https://clients.hostsailor.com/index.php?rp=/knowledgebase/8/You-canandsharp039t-use-special-characters-for-the-for-resetting-password-in-SolusVM.html', 'type': 'FAQ'}, page_content='You can\\'t use special characters for the password. Solusvm client area supports alphanumeric passwords only. You can\\'t use any special characters password(including !) from client panel. If you wish to set a highly secured password for you VPS you can follow the below steps.1. Set a simple password (something like \"changeme\") via SolusVM panel.2. Login to the server using SSHssh server IPUser: rootPassword: changeme3. Run the following commandpasswordIt will prompt you to enter passwordNow you can use the new password.'),\n",
              " Document(metadata={'title': 'How To Install and Use Docker on Ubuntu 16.04', 'source': 'https://clients.hostsailor.com/index.php?rp=/knowledgebase/163/-How-To-Install-and-Use-Docker-on-Ubuntu-16.04.html', 'type': 'Tutorial'}, page_content='IntroductionDocker is an application that makes it simple and easy to run application processes in a container, which are like virtual machines, only more portable, more resource-friendly, and more dependent on the host operating system. For a detailed introduction to the different components of a Docker container, check outThe Docker Ecosystem: An Introduction to Common Components.There are two methods for installing Docker on Ubuntu 16.04. One method involves installing it on an existing installation of the operating system. The other involves spinning up a server with a tool calledDocker Machinethat auto-installs Docker on it.In this tutorial, you\\'ll learn how to install and use it on an existing installation of Ubuntu 16.04.PrerequisitesTo follow this tutorial, you will need the following:64-bit Ubuntu 16.04 serverNon-root user with sudo privilegesInitial Setup Guide for Ubuntu 16.04explains how to set this up.)Note:Docker requires a 64-bit version of Ubuntu as well as a kernel version equal to or greater than 3.10. The default 64-bit Ubuntu 16.04 server meets these requirements.All the commands in this tutorial should be run as a non-root user. If root access is required for the command, it will be preceded bysudo.Initial Setup Guide for Ubuntu 16.04explains how to add users and give them sudo access.Step 1 — Installing DockerThe Docker installation package available in the official Ubuntu 16.04 repository may not be the latest version. To get the latest and greatest version, install Docker from the official Docker repository. This section shows you how to do just that.First, add the GPG key for the official Docker repository to the system:curl -fsSL https://download.docker.com/linux/ubuntu/gpg | sudo apt-key add -Add the Docker repository to APT sources:sudo add-apt-repository \"deb [arch=amd64] https://download.docker.com/linux/ubuntu $(lsb_release -cs) stable\"Next, update the package database with the Docker packages from the newly added repo:sudo apt-get updateMake sure you are about to install from the Docker repo instead of the default Ubuntu 16.04 repo:apt-cache policy docker-ceYou should see output similar to the follow:Output of apt-cache policy docker-cedocker-ce:\\r\\n  Installed: (none)\\r\\n  Candidate: 17.03.1~ce-0~ubuntu-xenial\\r\\n  Version table:\\r\\n     17.03.1~ce-0~ubuntu-xenial 500\\r\\n        500 https://download.docker.com/linux/ubuntu xenial/stable amd64 Packages\\r\\n     17.03.0~ce-0~ubuntu-xenial 500\\r\\n        500 https://download.docker.com/linux/ubuntu xenial/stable amd64 PackagesNotice thatdocker-ceis not installed, but the candidate for installation is from the Docker repository for Ubuntu 16.04. Thedocker-ceversion number might be different.Finally, install Docker:sudo apt-get install -y docker-ceDocker should now be installed, the daemon started, and the process enabled to start on boot. Check that it\\'s running:sudo systemctl status dockerThe output should be similar to the following, showing that the service is active and running:Output● docker.service - Docker Application Container Engine\\r\\n   Loaded: loaded (/lib/systemd/system/docker.service; enabled; vendor preset: enabled)\\r\\n   Active:active (running)since Sun 2016-05-01 06:53:52 CDT; 1 weeks 3 days ago\\r\\n     Docs: https://docs.docker.com\\r\\n Main PID: 749 (docker)Installing Docker now gives you not just the Docker service (daemon) but also thedockercommand line utility, or the Docker client. We\\'ll explore how to use thedockercommand later in this tutorial.Step 2 — Executing the Docker Command Without Sudo (Optional)By default, running thedockercommand requires root privileges — that is, you have to prefix the command withsudo. It can also be run by a user in thedockergroup, which is automatically created during the installation of Docker. If you attempt to run thedockercommand without prefixing it withsudoor without being in the docker group, you\\'ll get an output like this:Outputdocker: Cannot connect to the Docker daemon. Is the docker daemon running on this host?.\\r\\nSee \\'docker run --help\\'.If you want to avoid typingsudowhenever you run thedockercommand, add your username to thedockergroup:sudo usermod -aG docker ${USER}To apply the new group membership, you can log out of the server and back in, or you can type the following:su - ${USER}You will be prompted to enter your user\\'s password to continue. Afterwards, you can confirm that your user is now added to thedockergroup by typing:id -nGOutputsammysudo dockerIf you need to add a user to thedockergroup that you\\'re not logged in as, declare that username explicitly using:sudo usermod -aG dockerusernameThe rest of this article assumes you are running thedockercommand as a user in the docker user group. If you choose not to, please prepend the commands withsudo.Step 3 — Using the Docker CommandWith Docker installed and working, now\\'s the time to become familiar with the command line utility. Usingdockerconsists of passing it a chain of options and commands followed by arguments. The syntax takes this form:docker [option] [command] [arguments]To view all available subcommands, type:dockerAs of Docker 1.11.1, the complete list of available subcommands includes:Outputattach    Attach to a running container\\r\\n    build     Build an image from a Dockerfile\\r\\n    commit    Create a new image from a container\\'s changes\\r\\n    cp        Copy files/folders between a container and the local filesystem\\r\\n    create    Create a new container\\r\\n    diff      Inspect changes on a container\\'s filesystem\\r\\n    events    Get real time events from the server\\r\\n    exec      Run a command in a running container\\r\\n    export    Export a container\\'s filesystem as a tar archive\\r\\n    history   Show the history of an image\\r\\n    images    List images\\r\\n    import    Import the contents from a tarball to create a filesystem image\\r\\n    info      Display system-wide information\\r\\n    inspect   Return low-level information on a container or image\\r\\n    kill      Kill a running container\\r\\n    load      Load an image from a tar archive or STDIN\\r\\n    login     Log in to a Docker registry\\r\\n    logout    Log out from a Docker registry\\r\\n    logs      Fetch the logs of a container\\r\\n    network   Manage Docker networks\\r\\n    pause     Pause all processes within a container\\r\\n    port      List port mappings or a specific mapping for the CONTAINER\\r\\n    ps        List containers\\r\\n    pull      Pull an image or a repository from a registry\\r\\n    push      Push an image or a repository to a registry\\r\\n    rename    Rename a container\\r\\n    restart   Restart a container\\r\\n    rm        Remove one or more containers\\r\\n    rmi       Remove one or more images\\r\\n    run       Run a command in a new container\\r\\n    save      Save one or more images to a tar archive\\r\\n    search    Search the Docker Hub for images\\r\\n    start     Start one or more stopped containers\\r\\n    stats     Display a live stream of container(s) resource usage statistics\\r\\n    stop      Stop a running container\\r\\n    tag       Tag an image into a repository\\r\\n    top       Display the running processes of a container\\r\\n    unpause   Unpause all processes within a container\\r\\n    update    Update configuration of one or more containers\\r\\n    version   Show the Docker version information\\r\\n    volume    Manage Docker volumes\\r\\n    wait      Block until a container stops, then print its exit codeTo view the switches available to a specific command, type:dockerdocker-subcommand--helpTo view system-wide information about Docker, use:docker infoStep 4 — Working with Docker ImagesDocker containers are run from Docker images. By default, it pulls these images from Docker Hub, a Docker registry managed by Docker, the company behind the Docker project. Anybody can build and host their Docker images on Docker Hub, so most applications and Linux distributions you\\'ll need to run Docker containers have images that are hosted on Docker Hub.To check whether you can access and download images from Docker Hub, type:docker run hello-worldThe output, which should include the following, should indicate that Docker in working correctly:OutputHello from Docker.\\r\\nThis message shows that your installation appears to be working correctly.\\r\\n...You can search for images available on Docker Hub by using thedockercommand with thesearchsubcommand. For example, to search for the Ubuntu image, type:docker search ubuntuThe script will crawl Docker Hub and return a listing of all images whose name match the search string. In this case, the output will be similar to this:OutputNAME                              DESCRIPTION                                     STARS     OFFICIAL   AUTOMATED\\r\\nubuntu                            Ubuntu is a Debian-based Linux operating s...   3808      [OK]       \\r\\nubuntu-upstart                    Upstart is an event-based replacement for ...   61        [OK]       \\r\\ntorusware/speedus-ubuntu          Always updated official Ubuntu docker imag...   25                   [OK]\\r\\nrastasheep/ubuntu-sshd            Dockerized SSH service, built on top of of...   24                   [OK]\\r\\nubuntu-debootstrap                debootstrap --variant=minbase --components...   23        [OK]       \\r\\nnickistre/ubuntu-lamp             LAMP server on Ubuntu                           6                    [OK]\\r\\nnickistre/ubuntu-lamp-wordpress   LAMP on Ubuntu with wp-cli installed            5                    [OK]\\r\\nnuagebec/ubuntu                   Simple always updated Ubuntu docker images...   4                    [OK]\\r\\nnimmis/ubuntu                     This is a docker images different LTS vers...   4                    [OK]\\r\\nmaxexcloo/ubuntu                  Docker base image built on Ubuntu with Sup...   2                    [OK]\\r\\nadmiringworm/ubuntu               Base ubuntu images based on the official u...   1                    [OK]\\r\\n\\r\\n...In theOFFICIALcolumn,OKindicates an image built and supported by the company behind the project. Once you\\'ve identified the image that you would like to use, you can download it to your computer using thepullsubcommand, like so:docker pull ubuntuAfter an image has been downloaded, you may then run a container using the downloaded image with therunsubcommand. If an image has not been downloaded whendockeris executed with therunsubcommand, the Docker client will first download the image, then run a container using it:docker run ubuntuTo see the images that have been downloaded to your computer, type:docker imagesThe output should look similar to the following:OutputREPOSITORY          TAG                 IMAGE ID            CREATED             SIZE\\r\\nubuntu              latest              c5f1cf30c96b        7 days ago          120.8 MB\\r\\nhello-world         latest              94df4f0ce8a4        2 weeks ago         967 BAs you\\'ll see later in this tutorial, images that you use to run containers can be modified and used to generate new images, which may then be uploaded (pushedis the technical term) to Docker Hub or other Docker registries.Step 5 — Running a Docker ContainerThehello-worldcontainer you ran in the previous is an example of a container that runs and exits, after emitting a test message. Containers, however, can be much more useful than that, and they can be interactive. After all, they are similar to virtual machines, only more resource-friendly.As an example, let\\'s run a container using the latest image of Ubuntu. The combination of the-iand-tswitches gives you interactive shell access into the container:docker run -it ubuntuYour command prompt should change to reflect the fact that you\\'re now working inside the container and should take this form:Outputroot@d9b100f2f636:/#Important:Note the container id in the command prompt. In the above example, it isd9b100f2f636.Now you may run any command inside the container. For example, let\\'s update the package database inside the container. No need to prefix any command withsudo, because you\\'re operating inside the container with root privileges:apt-get updateThen install any application in it. Let\\'s install NodeJS, for example.apt-get install -y nodejsStep 6 — Committing Changes in a Container to a Docker ImageWhen you start up a Docker image, you can create, modify, and delete files just like you can with a virtual machine. The changes that you make will only apply to that container. You can start and stop it, but once you destroy it with thedocker rmcommand, the changes will be lost for good.This section shows you how to save the state of a container as a new Docker image.After installing nodejs inside the Ubuntu container, you now have a container running off an image, but the container is different from the image you used to create it.To save the state of the container as a new image, first exit from it:exitThen commit the changes to a new Docker image instance using the following command. The-mswitch is for the commit message that helps you and others know what changes you made, while-ais used to specify the author. The container ID is the one you noted earlier in the tutorial when you started the interactive docker session. Unless you created additional repositories on Docker Hub, the repository is usually your Docker Hub username:docker commit -m \"What did you do to the image\" -a \"Author Name\"container-idrepository/new_image_nameFor example:<ul class=\"prefixed\" sty'),\n",
              " Document(metadata={'title': \"Activate Let's Encrypt on ISP Manager\", 'source': 'https://clients.hostsailor.com/index.php?rp=/knowledgebase/252/Activate-Letandsharp039s-Encrypt-on-ISP-Manager.html', 'type': 'Tutorial'}, page_content=\"Let's Encrypt is a widely used free SSL certificate provider that can be integrated with most of the hosting control panels. Here I am describing the steps about how to do it on ISP Manager control panel. By default, it won't be available with ISP Manager. We need to install it from the 'Modules' section. Here I am providing the steps to enable and install a certificate.Login to ISP Manager as root.Go to 'Integration' and click on 'Modules'.There you can see the option 'Let’s Encrypt' under the 'Integration' section.Click on install and wait for a minute. It will install it and press OK after.The option will be available under 'Web-server settings' section. Select the 'SSL Certificates' option from there.There you can select the website you need to set the certificate for. Choose the options as per your requirement and press OK.It will take some time to get it activated. Please make sure that the DNS has been pointed to the same server before doing the activation.You can view the video KB for this topic by clickinghere.\"),\n",
              " Document(metadata={'title': 'Adding Server Credentials from Client Area', 'source': 'https://clients.hostsailor.com/index.php?rp=/knowledgebase/189/Adding-Server-Credentials-from-Client-Area.html', 'type': 'Tutorial'}, page_content=\"The exchange of passwords in plain text format is not at all a safer way nowadays.\\xa0 In case if we need to provide the server passwords, Control panel logins etc. to the support team as a part of troubleshooting any server related issues, we have added a new feature in the client area itself. You can provide the\\xa0details from your client area and stores the passwords in an encrypted format and so that it will be safe. You can watch the video tutorial of this by clickinghere.Here are the steps to follow:Either we can add the credentials during the time of creating a ticket or we can add it later after creating a ticket.Providing the details during the time of ticket creation:a. Login to your client area.b. Go to Open Ticket option.c. Provide the required details and Submit the ticket.d. There you can see the option 'Submit Credentials' in the next window.e. Click here and there you can add the SSH Logins, Control panel details, FTP details etc. as per the requirement and press Submit/Update Login Credentials Button once you are done.Providing the details after creating a ticket:If you forgot\\xa0to update the credentials during the time of ticket creation, you can add those from the client area itself by accessing the opened ticket.a. Login to your client area.b. Go to Support > Tickets section.c. Click on the corresponding\\xa0ticket you need to add the credentials.d. There you can see the 'Submit/Update Credentials' option.e. Click here and there you can add the SSH Logins, Control panel details, FTP details etc. as per the requirement and press Submit/Update Login Credentials Button once you are done.\"),\n",
              " Document(metadata={'title': \"Adding bulk amount of additional IP's in CentOS\", 'source': 'https://clients.hostsailor.com/index.php?rp=/knowledgebase/229/Adding-bulk-amount-of-additional-IPandsharp039s-in-CentOS.html', 'type': 'Tutorial'}, page_content=\"If we have a dedicated server with Centos 6 or Centos 7 and we need to add a full /24 range of IP's in it, we can do it by adding it as a range by mentioning the start IP and end IP. An example is provided below:If you own 192.168.125.0/24, and you need to add all of the IP's in that range, we can add it like the following:Create a file '/etc/sysconfig/network-scripts/ifcfg-eth0-range0' based on which ethernet card you are using.vi /etc/sysconfig/network-scripts/ifcfg-eth0-range0Add the following lines in the file:IPADDR_START=192.168.125.3IPADDR_END=192.168.125.254NETMASK=255.255.255.255CLONENUM_START=1Here you need to replace the start IP and end IP based on what you own.If you needed to add first 100 IP's only,\\xa0 \\xa0you can set the first IP as192.168.125.3 and end IP as192.168.125.102. But make sure that any IP's in between these are not used somewhere else.3. Once the configuration is added you can restart the network service or reboot the server. It is better to have IPMI access before doing such changes.You can watch the video tutorial for the same by clickinghere.\"),\n",
              " Document(metadata={'title': 'Adding file manager in VestaCP', 'source': 'https://clients.hostsailor.com/index.php?rp=/knowledgebase/234/Adding-file-manager-in-VestaCP.html', 'type': 'Tutorial'}, page_content='The Vesta CP is a commonly used web hosting control panel in Linux OS. There is no file manager is there by default in Vesta CP. Here is a simple trick to enable the file manager on the panel.Log in as root to a Vesta installed server via terminal.Open the configuration file using any text editor:vi\\xa0/usr/local/vesta/conf/vesta.confAdd the following line at the end of that configuration file:FILEMANAGER_KEY=’ILOVEREO’Save and exit the file.Try to log out and re-login to Vesta panel and you will be able to see the file manager option now.You can watch the video KB of this tutorial by clickinghere.'),\n",
              " Document(metadata={'title': 'Backup and Restore cPanel Accounts via SSH', 'source': 'https://clients.hostsailor.com/index.php?rp=/knowledgebase/162/Backup-and-Restore-cPanel-Accounts-via-SSH.html', 'type': 'Tutorial'}, page_content='You can watch the video tutorial for this topic by clickinghere.a. How to create a backup of a cPanel Account via SSH?1. Log-in to the SSH as the Root user.2. Since it will be a time-consuming task, it is better to run it on screen.3. Enter the following command string on the command line interface:/scripts/pkgacct usernameThe account backup will be created in the current directory you are in. So please try to\\xa0run the command from a directory in which the partition has enough free space available.b. How to Restore a cPanel Account via SSH?Log in to the server via SSH and enter the following command from the directory in which the backup files are located./scripts/restorepkg usernameIf the backup file name is not in the standard cPanel format(eg: cpmove-username.tar.gz), you need to specify the filename/path with the command like below:/scripts/restorepkg username /home/backupname.tar.gzIf the cPanel account is already created on the server and you are running the restoration later, you might need to use the force option as well./scripts/restorepkg --forceusername /home/backupname.tar.gz')]"
            ]
          },
          "metadata": {},
          "execution_count": 8
        }
      ]
    },
    {
      "cell_type": "markdown",
      "source": [
        "#### save the `add_type_docs` to a `.jsonl` file"
      ],
      "metadata": {
        "id": "T1M-2gGrOgC-"
      }
    },
    {
      "cell_type": "code",
      "source": [
        "# saving the cleaned version of the knowledge base\n",
        "\n",
        "import json\n",
        "from langchain.docstore.document import Document\n",
        "\n",
        "print(f\"Initial documents to save: {len(add_type_docs)}\")\n",
        "\n",
        "# --- Saving the documents to JSONL ---\n",
        "file_path_jsonl = \"meatadata_type_kb_articles.jsonl\" # A descriptive filename\n",
        "with open(file_path_jsonl, 'w', encoding='utf-8') as f:\n",
        "    for doc in add_type_docs:\n",
        "        # LangChain Document objects have .page_content and .metadata attributes\n",
        "        doc_dict = {\n",
        "            \"page_content\": doc.page_content,\n",
        "            \"metadata\": doc.metadata\n",
        "        }\n",
        "        # Use ensure_ascii=False to correctly handle non-ASCII characters (e.g., Arabic)\n",
        "        f.write(json.dumps(doc_dict, ensure_ascii=False) + '\\n')\n",
        "print(f\"Documents successfully saved to {file_path_jsonl}\")"
      ],
      "metadata": {
        "colab": {
          "base_uri": "https://localhost:8080/"
        },
        "id": "AluX0Rt0jGY0",
        "outputId": "0c6c8668-54b1-41ef-e6e8-6df1e295932c"
      },
      "execution_count": 122,
      "outputs": [
        {
          "output_type": "stream",
          "name": "stdout",
          "text": [
            "Initial documents to save: 296\n",
            "Documents successfully saved to cleaned_kb_articles.jsonl\n"
          ]
        }
      ]
    },
    {
      "cell_type": "markdown",
      "source": [
        "#### Text Processing and Chunking.\n",
        "- detect the links in the articles, remove them from the article and add them to the `metadata` as `reference`\n",
        "- clean the documents\n",
        "- split it into chunks\n",
        "- add representative tags to metadata according to keywords in the text itself"
      ],
      "metadata": {
        "id": "1MPHIquT0j8U"
      }
    },
    {
      "cell_type": "code",
      "source": [
        "import re\n",
        "import html\n",
        "import uuid\n",
        "from typing import List, Dict\n",
        "from urllib.parse import urlparse\n",
        "from langchain.schema import Document\n",
        "\n",
        "# Pattern to extract full URLs\n",
        "FULL_URL_PATTERN = re.compile(r'https?://[^\\s\\'\"<>]+')\n",
        "\n",
        "def get_base_domain(url: str) -> str:\n",
        "    \"\"\"Extracts the clean base domain from a URL.\"\"\"\n",
        "    try:\n",
        "        netloc = urlparse(url).netloc\n",
        "        return netloc.replace('www.', '') if netloc else ''\n",
        "    except ValueError:\n",
        "        return ''\n",
        "\n",
        "def clean_and_extract_urls(doc: Document) -> Document:\n",
        "    \"\"\"\n",
        "    Removes HTML, extracts URLs, classifies internal vs external links.\n",
        "    Adds references to metadata.\n",
        "    \"\"\"\n",
        "    original_content = doc.page_content\n",
        "\n",
        "    # Ensure references list exists\n",
        "    if 'references' not in doc.metadata or not isinstance(doc.metadata['references'], list):\n",
        "        doc.metadata['references'] = []\n",
        "\n",
        "    base_domain = get_base_domain(doc.metadata.get('source', ''))\n",
        "\n",
        "    # Step 1: Extract full URLs\n",
        "    full_urls = list(set(FULL_URL_PATTERN.findall(original_content)))\n",
        "    doc.metadata['references'].extend(full_urls)\n",
        "\n",
        "    # Step 2: Clean content\n",
        "    cleaned_content = re.sub(r'<[^>]+>', '', original_content)\n",
        "    cleaned_content = ' '.join(cleaned_content.split())\n",
        "\n",
        "    # Step 3: Replace/remove links\n",
        "    for url in full_urls:\n",
        "        if base_domain and get_base_domain(url) == base_domain:\n",
        "            cleaned_content = cleaned_content.replace(url, \"[our client area link]\")\n",
        "        else:\n",
        "            cleaned_content = cleaned_content.replace(url, \"\")\n",
        "\n",
        "    # Step 4: Remove broken paths\n",
        "    broken_path_patterns = [\n",
        "        r'/[a-zA-Z0-9_\\-\\./]*(?:\\.html|\\.php|\\.exe|\\.zip|\\.tar\\.gz|\\.pdf|\\.txt|\\.gpg)?(?:\\?[\\w=&.\\-]*)*',\n",
        "        r'clientarea\\.php(?:\\?[\\w=&.\\-]*)*',\n",
        "        r'index\\.php(?:\\?[\\w=&.\\-]*)*'\n",
        "    ]\n",
        "    for pattern in broken_path_patterns:\n",
        "        cleaned_content = re.sub(r'(?<!\\w)' + pattern, '', cleaned_content)\n",
        "\n",
        "    doc.page_content = cleaned_content\n",
        "    return doc\n",
        "\n",
        "def clean_document(doc: Document) -> Document:\n",
        "    \"\"\"\n",
        "    Cleans metadata and content.\n",
        "    Unescapes title and removes boilerplate from content.\n",
        "    \"\"\"\n",
        "    cleaned_metadata = doc.metadata.copy()\n",
        "    cleaned_content = doc.page_content\n",
        "\n",
        "    # Clean title\n",
        "    if 'title' in cleaned_metadata:\n",
        "        cleaned_metadata['title'] = html.unescape(cleaned_metadata['title'])\n",
        "\n",
        "    # Clean content\n",
        "    cleaned_content = cleaned_content.replace('\\xa0', ' ')\n",
        "    cleaned_content = cleaned_content.replace('\\r\\n', '\\n')\n",
        "    cleaned_content = re.sub(r\"you can (view|watch) the video (kb|tutorial) for this topic by clicking here\\.?\", '', cleaned_content, flags=re.IGNORECASE)\n",
        "    cleaned_content = re.sub(r'\\s+', ' ', cleaned_content).strip()\n",
        "\n",
        "    return Document(page_content=cleaned_content, metadata=cleaned_metadata)\n",
        "\n",
        "# === Existing processing functions ===\n",
        "\n",
        "def clean_text(text: str) -> str:\n",
        "    text = re.sub(r\"\\s+\", \" \", text)\n",
        "    text = re.sub(r\"\\\\n\", \"\\n\", text)\n",
        "    text = re.sub(r\"<[^>]+>\", \"\", text)\n",
        "    return text.strip()\n",
        "\n",
        "def split_into_chunks(text: str) -> List[str]:\n",
        "    chunks = re.split(r\"(?i)(step\\s+\\d+|^#+\\s+|\\n(?=\\S))\", text)\n",
        "    merged_chunks = []\n",
        "    i = 0\n",
        "    while i < len(chunks):\n",
        "        if re.match(r\"(?i)^step\\s+\\d+\", chunks[i]):\n",
        "            heading = chunks[i].strip()\n",
        "            content = chunks[i + 1].strip() if i + 1 < len(chunks) else \"\"\n",
        "            merged_chunks.append(f\"{heading}\\n{content}\")\n",
        "            i += 2\n",
        "        else:\n",
        "            merged_chunks.append(chunks[i].strip())\n",
        "            i += 1\n",
        "    return [chunk for chunk in merged_chunks if len(chunk.split()) > 10]\n",
        "\n",
        "def extract_commands(text: str) -> List[str]:\n",
        "    return re.findall(r\"(?m)^(sudo|docker|apt-get|curl)[^\\n]+\", text)\n",
        "\n",
        "def tag_chunk(text: str) -> List[str]:\n",
        "    tags = []\n",
        "    text_lower = text.lower()\n",
        "    if \"docker\" in text_lower: tags.append(\"docker\")\n",
        "    if any(k in text_lower for k in [\"ubuntu\", \"debian\", \"linux\"]): tags.append(\"linux\")\n",
        "    if \"ubuntu\" in text_lower: tags.append(\"ubuntu\")\n",
        "    if \"debian\" in text_lower: tags.append(\"debian\")\n",
        "    if \"ssl\" in text_lower: tags.append(\"ssl\")\n",
        "    if \"isp manager\" in text_lower: tags.append(\"isp-manager\")\n",
        "    if \"vps\" in text_lower: tags.append(\"vps\")\n",
        "    if \"ip\" in text_lower: tags.append(\"ip\")\n",
        "    if \"ffmpeg\" in text_lower: tags.append(\"ffmpeg\")\n",
        "    if \"centos\" in text_lower: tags.append(\"centos\")\n",
        "    if \"ddos\" in text_lower: tags.append(\"ddos\")\n",
        "    if \"windows\" in text_lower: tags.append(\"windows\")\n",
        "    if \"php\" in text_lower: tags.append(\"php\")\n",
        "    if \"web\" in text_lower: tags.append(\"web\")\n",
        "    if \"email\" in text_lower: tags.append(\"email\")\n",
        "    if \"mac\" in text_lower: tags.append(\"mac\")\n",
        "    if \"mysql\" in text_lower: tags.append(\"mysql\")\n",
        "    if \"wordpress\" in text_lower: tags.append(\"wordpress\")\n",
        "    if \"error\" in text_lower: tags.append(\"error\")\n",
        "    if \"ssh\" in text_lower: tags.append(\"ssh\")\n",
        "    if \"mongodb\" in text_lower: tags.append(\"mongodb\")\n",
        "    if \"openvz\" in text_lower: tags.append(\"openvz\")\n",
        "    if \"xenpv\" in text_lower: tags.append(\"xenpv\")\n",
        "    if \"kvm\" in text_lower: tags.append(\"kvm\")\n",
        "    if not tags: tags.append(\"other\")\n",
        "    return tags\n",
        "\n",
        "# === Main integration function ===\n",
        "\n",
        "def preprocess_document(doc: Document) -> List[Dict]:\n",
        "    # Step 1: Clean metadata and remove noise\n",
        "    doc = clean_document(doc)\n",
        "\n",
        "    # Step 2: Extract and clean links, update metadata\n",
        "    doc = clean_and_extract_urls(doc)\n",
        "\n",
        "    # Step 3: Clean additional formatting\n",
        "    cleaned = clean_text(doc.page_content)\n",
        "\n",
        "    # Step 4: Split and tag chunks\n",
        "    chunks = split_into_chunks(cleaned)\n",
        "    processed_chunks = []\n",
        "    for i, chunk in enumerate(chunks):\n",
        "        chunk_data = {\n",
        "            \"id\": str(uuid.uuid4()),\n",
        "            \"content\": chunk,\n",
        "            \"source\": doc.metadata.get(\"source\"),\n",
        "            \"title\": doc.metadata.get(\"title\"),\n",
        "            \"type\": doc.metadata.get(\"type\"),\n",
        "            \"chunk_index\": i,\n",
        "            \"commands\": extract_commands(chunk),\n",
        "            \"tags\": tag_chunk(chunk),\n",
        "            \"references\": doc.metadata.get(\"references\", []),\n",
        "        }\n",
        "        processed_chunks.append(chunk_data)\n",
        "\n",
        "    return processed_chunks\n",
        "\n",
        "def preprocess_all(documents: List[Document]) -> List[Dict]:\n",
        "    all_chunks = []\n",
        "    for doc in documents:\n",
        "        all_chunks.extend(preprocess_document(doc))\n",
        "    return all_chunks"
      ],
      "metadata": {
        "id": "GwC6V70WuHPn"
      },
      "execution_count": 9,
      "outputs": []
    },
    {
      "cell_type": "code",
      "source": [
        "processed_chunks = preprocess_all(add_type_docs)"
      ],
      "metadata": {
        "id": "dEKXmguOuMIu"
      },
      "execution_count": 10,
      "outputs": []
    },
    {
      "cell_type": "code",
      "source": [
        "len(processed_chunks)"
      ],
      "metadata": {
        "colab": {
          "base_uri": "https://localhost:8080/"
        },
        "id": "3dh6gwy3uR_P",
        "outputId": "3b020903-e1cb-457b-bcac-c8cbb261cc02"
      },
      "execution_count": 11,
      "outputs": [
        {
          "output_type": "execute_result",
          "data": {
            "text/plain": [
              "339"
            ]
          },
          "metadata": {},
          "execution_count": 11
        }
      ]
    },
    {
      "cell_type": "code",
      "source": [
        "processed_chunks[:22]"
      ],
      "metadata": {
        "colab": {
          "base_uri": "https://localhost:8080/"
        },
        "id": "9C_Dh1GRyfGv",
        "outputId": "bfe49e4b-f805-4cc7-b676-b603077d11f4"
      },
      "execution_count": 15,
      "outputs": [
        {
          "output_type": "execute_result",
          "data": {
            "text/plain": [
              "[{'id': '649fbecd-0f97-4d02-a205-99967d8c6c36',\n",
              "  'content': \"Many users including ourselves, are having problems installing adobe flash with firefox, it keeps displaying the security errors from Internet explorer although you're installing it for firefox, correct? well the simple and quickiest solution is to use this full installer instead on your windows VPS or dedicated server:\",\n",
              "  'source': 'https://clients.hostsailor.com/index.php?rp=/knowledgebase/130/Adobe-flash-Internet-explorer-security-error.html',\n",
              "  'title': 'Adobe flash Internet explorer security error',\n",
              "  'type': 'FAQ',\n",
              "  'chunk_index': 0,\n",
              "  'commands': [],\n",
              "  'tags': ['vps', 'windows', 'error'],\n",
              "  'references': ['http://download.macromedia.com/pub/flashplayer/latest/help/install_flash_player.exe']},\n",
              " {'id': '335632b2-b23c-42f3-baf8-2d114bf05f9e',\n",
              "  'content': \"Once you upgrade your VPS the RAM and CPU are easily upgradable, with the disk it's a different matter:With OpenVZ your disk space will be upgraded using the same partition.With XEN Linux we can also upgrade it using the same partition.With KVM Linux, we have to add a new partition using the extra disk space.With KVM Windows, once the upgrade is completed, we can resize it via the disk management feature under the windows tools.\",\n",
              "  'source': 'https://clients.hostsailor.com/index.php?rp=/knowledgebase/129/Disk-space-upgrade.html',\n",
              "  'title': 'Disk space upgrade',\n",
              "  'type': 'FAQ',\n",
              "  'chunk_index': 0,\n",
              "  'commands': [],\n",
              "  'tags': ['linux', 'vps', 'windows', 'openvz', 'kvm'],\n",
              "  'references': []},\n",
              " {'id': '397460a5-92b3-42cd-b934-7f96777eb6a2',\n",
              "  'content': 'Yes, our vps support IPv6 just send us a ticket to request one or more ipv6.',\n",
              "  'source': 'https://clients.hostsailor.com/index.php?rp=/knowledgebase/6/Does-your-VPS-support-IPv6.html',\n",
              "  'title': 'Does your VPS support IPv6?',\n",
              "  'type': 'FAQ',\n",
              "  'chunk_index': 0,\n",
              "  'commands': [],\n",
              "  'tags': ['vps', 'ip'],\n",
              "  'references': []},\n",
              " {'id': '49755ac3-2a8e-4a39-805f-2fe154ba0db4',\n",
              "  'content': \"Our VPS and dedicated servers are setup using our own DNS IP addresses, however if by mistake we didn't deliver it using our own DNS IP addresses, then feel free to use them:HostSailor's private DNS IP addresses (IPv4) are as follows:185.82.201.155185.45.193.140Please note, that you can only use them on HostSailor's services, it will not work for any public use.For Linux a quick solution would be:cat > 185.82.201.155nameserver 185.45.193.140\",\n",
              "  'source': 'https://clients.hostsailor.com/index.php?rp=/knowledgebase/122/HostSailorandsharp039s-private-DNS.html',\n",
              "  'title': \"HostSailor's private DNS\",\n",
              "  'type': 'FAQ',\n",
              "  'chunk_index': 0,\n",
              "  'commands': [],\n",
              "  'tags': ['linux', 'vps', 'ip'],\n",
              "  'references': []},\n",
              " {'id': 'cbbbb587-1681-4d97-af40-07e07a20dad8',\n",
              "  'content': 'Vswap is calculated from the amount of burst memory you add to a virtual server. For example, if you specify 512 MB Ram and 1024 MB Burst the Vswap would be 512 MB (1024 MB -512 MB =512 MB).',\n",
              "  'source': 'https://clients.hostsailor.com/index.php?rp=/knowledgebase/7/How-is-VSwap-Calculated.html',\n",
              "  'title': 'How is VSwap Calculated?',\n",
              "  'type': 'FAQ',\n",
              "  'chunk_index': 0,\n",
              "  'commands': [],\n",
              "  'tags': ['other'],\n",
              "  'references': []},\n",
              " {'id': '7e190037-2d0d-4996-87d1-b79cd1abd8bd',\n",
              "  'content': 'OpenVZ:centos-5-x86 (i386)centos-5-x86_64 (x86_64)centos-6-x86 (i386)centos-6-x86_64 (x86_64)centos-7-x86_64 (x86_64)debian-6.0-x86 (i386)debian-6.0-x86_64 (x86_64)debian-7.0-x86 (i386)debian-7.0-x86_64 (x86_64)scientific-6-x86 (i386)scientific-6-x86_64 (x86_64)ubuntu-12.04-x86(i386)ubuntu-12.04-x86_64(x86_64)ubuntu-14.04-x86 (i386)ubuntu-14.04-x86_64 (x86_64)fedora-19-x86 (i386)fedora-19-x86_64 (x86_64)fedora-20-x86 (i386)fedora-20-x86_64 (x86_64)suse-12.3-x86 (i386)suse-12.3-x86_64 (x86_64)suse-13.1-x86 (i386)suse-13.1-x86_64 (x86_64)XenPV:opensuse-13.1-x86_64 (x86_64)slackware-14.1-x86_64 (x86_64)gentoo-2014.04-x86_64 (x86_64)centos-6.5-x86_64 (x86_64)debian-7.4-x86_64 (x86_64)centos-6.5-x86_64-solus-gnome (x86_64)centos-6.5-x86_64-solus-cpanel (x86_64)fedora-20-x86_64 (x86_64)scientific-6.5-x86_64 (x86_64)debian-6.0-x86 (i386)ubuntu-13.10-x86_64 (x86_64)KVM:linux-centos-5.8-x86-min-gen2-v1 (i386)linux-centos-5.8-x86_64-min-gen2-v1 (x86_64)linux-centos-6.5-x86-min-gen2-v1 (i386)linux-centos-6.5-x86_64-min-gen2-v1 (x86_64)linux-centos-7.0.1406-x86_64-min-gen2-v2 (x86_64)linux-ubuntu-12.04-server-x86-min-gen2-v1 (i386)linux-ubuntu-12.04-server-x86_64-min-gen2-v1 (x86_64)linux-ubuntu-14.04-server-x86_64-min-gen2-v1 (x86_64)linux-ubuntu-14.04-server-x86-min-gen2-v1 (i386)linux-scilinux-6.3-x86-min-gen2-v1 (i386)linux-scilinux-6.3-x86_64-min-gen2-v1 (x86_64)windows-server-2008R2-dc-x86_64-gen2-v1 (x86_64)windows-server-2012R2-dc-x86_64-gen2-v1(x86_64)linux-debian-6.0.6-x86-min-gen2-v1 (i386)linux-debian-6.0.6-x86_64-min-gen2-v1 (x86_64)linux-debian-7.3.0-x86-min-gen2-v1 (i386)linux-debian-7.3.0-x86_64-min-gen2-v1 (x86_64)linux-fedora-17-x86-min-gen2-v1 (i386)linux-fedora-17-x86_64-min-gen2-v1 (x86_64)linux-fedora-20-x86-min-gen2-v1 (i386)finux-fedora-20-x86_64-min-gen2-v1 (x86_64)linux-opensuse-12.2-x86-min-gen2-v1 (i386)linux-opensuse-12.2-x86_64-min-gen2-v1 (x86_64)',\n",
              "  'source': 'https://clients.hostsailor.com/index.php?rp=/knowledgebase/4/List-Of-Operating-System-Templates.html',\n",
              "  'title': 'List Of Operating System Templates',\n",
              "  'type': 'FAQ',\n",
              "  'chunk_index': 0,\n",
              "  'commands': [],\n",
              "  'tags': ['linux',\n",
              "   'ubuntu',\n",
              "   'debian',\n",
              "   'centos',\n",
              "   'windows',\n",
              "   'openvz',\n",
              "   'xenpv',\n",
              "   'kvm'],\n",
              "  'references': []},\n",
              " {'id': 'f4edd96f-9b7a-4719-a738-e6d0fd5c8eee',\n",
              "  'content': 'Failed to login to SolusVM many times and you got this error.You Have Been Blacklisted - Contact SupportSolutions:You need to:Check your SolusVM usernameTry to reset your password at the SolusVM login pageTry again in 30 minutes and login again.If you still having problem after following the above solutions, submit a support ticket through our client area [our client area link]',\n",
              "  'source': 'https://clients.hostsailor.com/index.php?rp=/knowledgebase/44/SolusVM-Error-You-Have-Been-Blacklisted---Contact-Support..html',\n",
              "  'title': 'SolusVM Error \"You Have Been Blacklisted - Contact Support.\"',\n",
              "  'type': 'FAQ',\n",
              "  'chunk_index': 0,\n",
              "  'commands': [],\n",
              "  'tags': ['error'],\n",
              "  'references': ['https://clients.hostsailor.com']},\n",
              " {'id': '5bd9387e-428a-4af8-bf61-9d4a700f1ce7',\n",
              "  'content': \"You should receive an email from us with your VPS information as soon as you pay. If you have paid and have not received your VPS information email, please check your spam/junk mail, otherwise under [our client area link] after logging on with your email and password, if you still don't see the mail, please open a ticket.\",\n",
              "  'source': 'https://clients.hostsailor.com/index.php?rp=/knowledgebase/5/Where-is-my-VPS-information-email.html',\n",
              "  'title': 'Where is my VPS information email?',\n",
              "  'type': 'FAQ',\n",
              "  'chunk_index': 0,\n",
              "  'commands': [],\n",
              "  'tags': ['vps', 'email'],\n",
              "  'references': ['https://clients.hostsailor.com/clientarea.php?action=emails']},\n",
              " {'id': 'f20e8576-834f-4852-88d1-2003b1663a35',\n",
              "  'content': 'You can\\'t use special characters for the password. Solusvm client area supports alphanumeric passwords only. You can\\'t use any special characters password(including !) from client panel. If you wish to set a highly secured password for you VPS you can follow the below steps.1. Set a simple password (something like \"changeme\") via SolusVM panel.2. Login to the server using SSHssh server IPUser: rootPassword: changeme3. Run the following commandpasswordIt will prompt you to enter passwordNow you can use the new password.',\n",
              "  'source': 'https://clients.hostsailor.com/index.php?rp=/knowledgebase/8/You-canandsharp039t-use-special-characters-for-the-for-resetting-password-in-SolusVM.html',\n",
              "  'title': \"You can't use special characters for the for resetting password in SolusVM\",\n",
              "  'type': 'FAQ',\n",
              "  'chunk_index': 0,\n",
              "  'commands': [],\n",
              "  'tags': ['vps', 'ip', 'ssh'],\n",
              "  'references': []},\n",
              " {'id': 'd74a654a-8fe3-447b-b360-67d3d62c8353',\n",
              "  'content': \"IntroductionDocker is an application that makes it simple and easy to run application processes in a container, which are like virtual machines, only more portable, more resource-friendly, and more dependent on the host operating system. For a detailed introduction to the different components of a Docker container, check outThe Docker Ecosystem: An Introduction to Common Components.There are two methods for installing Docker on Ubuntu 16.04. One method involves installing it on an existing installation of the operating system. The other involves spinning up a server with a tool calledDocker Machinethat auto-installs Docker on it.In this tutorial, you'll learn how to install and use it on an existing installation of Ubuntu 16.04.PrerequisitesTo follow this tutorial, you will need the following:64-bit Ubuntu 16.04 serverNon-root user with sudo privilegesInitial Setup Guide for Ubuntu 16.04explains how to set this up.)Note:Docker requires a 64-bit version of Ubuntu as well as a kernel version equal to or greater than 3.10. The default 64-bit Ubuntu 16.04 server meets these requirements.All the commands in this tutorial should be run as a non-root user. If root access is required for the command, it will be preceded bysudo.Initial Setup Guide for Ubuntu 16.04explains how to add users and give them sudo access.\",\n",
              "  'source': 'https://clients.hostsailor.com/index.php?rp=/knowledgebase/163/-How-To-Install-and-Use-Docker-on-Ubuntu-16.04.html',\n",
              "  'title': 'How To Install and Use Docker on Ubuntu 16.04',\n",
              "  'type': 'Tutorial',\n",
              "  'chunk_index': 0,\n",
              "  'commands': [],\n",
              "  'tags': ['docker', 'linux', 'ubuntu', 'mac'],\n",
              "  'references': ['https://docs.docker.com',\n",
              "   'https://download.docker.com/linux/ubuntu/gpg',\n",
              "   'https://download.docker.com/linux/ubuntu']},\n",
              " {'id': '0bb8110c-7caa-4b1e-b682-3358b629a789',\n",
              "  'content': 'Step 1\\n— Installing DockerThe Docker installation package available in the official Ubuntu 16.04 repository may not be the latest version. To get the latest and greatest version, install Docker from the official Docker repository. This section shows you how to do just that.First, add the GPG key for the official Docker repository to the system:curl -fsSL | sudo apt-key add -Add the Docker repository to APT sources:sudo add-apt-repository \"deb [arch=amd64] $(lsb_release -cs) stable\"Next, update the package database with the Docker packages from the newly added repo:sudo apt-get updateMake sure you are about to install from the Docker repo instead of the default Ubuntu 16.04 repo:apt-cache policy docker-ceYou should see output similar to the follow:Output of apt-cache policy docker-cedocker-ce: Installed: (none) Candidate: 17.03.1~ce-0~ubuntu-xenial Version table: 17.03.1~ce-0~ubuntu-xenial 500 500 xenial/stable amd64 Packages 17.03.0~ce-0~ubuntu-xenial 500 500 xenial/stable amd64 PackagesNotice thatdocker-ceis not installed, but the candidate for installation is from the Docker repository for Ubuntu 16.04. Thedocker-ceversion number might be different.Finally, install Docker:sudo apt-get install -y docker-ceDocker should now be installed, the daemon started, and the process enabled to start on boot. Check that it\\'s running:sudo systemctl status dockerThe output should be similar to the following, showing that the service is active and running:Output● docker.service - Docker Application Container Engine Loaded: loaded (; enabled; vendor preset: enabled) Active:active (running)since Sun 2016-05-01 06:53:52 CDT; 1 weeks 3 days ago Docs: Main PID: 749 (docker)Installing Docker now gives you not just the Docker service (daemon) but also thedockercommand line utility, or the Docker client. We\\'ll explore how to use thedockercommand later in this tutorial.',\n",
              "  'source': 'https://clients.hostsailor.com/index.php?rp=/knowledgebase/163/-How-To-Install-and-Use-Docker-on-Ubuntu-16.04.html',\n",
              "  'title': 'How To Install and Use Docker on Ubuntu 16.04',\n",
              "  'type': 'Tutorial',\n",
              "  'chunk_index': 1,\n",
              "  'commands': [],\n",
              "  'tags': ['docker', 'linux', 'ubuntu', 'ssl'],\n",
              "  'references': ['https://docs.docker.com',\n",
              "   'https://download.docker.com/linux/ubuntu/gpg',\n",
              "   'https://download.docker.com/linux/ubuntu']},\n",
              " {'id': '7fc6f72b-305d-4f2d-b77c-f9cb99cf269c',\n",
              "  'content': \"Step 2\\n— Executing the Docker Command Without Sudo (Optional)By default, running thedockercommand requires root privileges — that is, you have to prefix the command withsudo. It can also be run by a user in thedockergroup, which is automatically created during the installation of Docker. If you attempt to run thedockercommand without prefixing it withsudoor without being in the docker group, you'll get an output like this:Outputdocker: Cannot connect to the Docker daemon. Is the docker daemon running on this host?. See 'docker run --help'.If you want to avoid typingsudowhenever you run thedockercommand, add your username to thedockergroup:sudo usermod -aG docker ${USER}To apply the new group membership, you can log out of the server and back in, or you can type the following:su - ${USER}You will be prompted to enter your user's password to continue. Afterwards, you can confirm that your user is now added to thedockergroup by typing:id -nGOutputsammysudo dockerIf you need to add a user to thedockergroup that you're not logged in as, declare that username explicitly using:sudo usermod -aG dockerusernameThe rest of this article assumes you are running thedockercommand as a user in the docker user group. If you choose not to, please prepend the commands withsudo.\",\n",
              "  'source': 'https://clients.hostsailor.com/index.php?rp=/knowledgebase/163/-How-To-Install-and-Use-Docker-on-Ubuntu-16.04.html',\n",
              "  'title': 'How To Install and Use Docker on Ubuntu 16.04',\n",
              "  'type': 'Tutorial',\n",
              "  'chunk_index': 2,\n",
              "  'commands': [],\n",
              "  'tags': ['docker', 'ip'],\n",
              "  'references': ['https://docs.docker.com',\n",
              "   'https://download.docker.com/linux/ubuntu/gpg',\n",
              "   'https://download.docker.com/linux/ubuntu']},\n",
              " {'id': '8b03d650-77b4-4432-9fbd-2557256a9fe9',\n",
              "  'content': \"Step 3\\n— Using the Docker CommandWith Docker installed and working, now's the time to become familiar with the command line utility. Usingdockerconsists of passing it a chain of options and commands followed by arguments. The syntax takes this form:docker [option] [command] [arguments]To view all available subcommands, type:dockerAs of Docker 1.11.1, the complete list of available subcommands includes:Outputattach Attach to a running container build Build an image from a Dockerfile commit Create a new image from a container's changes cp Copy files/folders between a container and the local filesystem create Create a new container diff Inspect changes on a container's filesystem events Get real time events from the server exec Run a command in a running container export Export a container's filesystem as a tar archive history Show the history of an image images List images import Import the contents from a tarball to create a filesystem image info Display system-wide information inspect Return low-level information on a container or image kill Kill a running container load Load an image from a tar archive or STDIN login Log in to a Docker registry logout Log out from a Docker registry logs Fetch the logs of a container network Manage Docker networks pause Pause all processes within a container port List port mappings or a specific mapping for the CONTAINER ps List containers pull Pull an image or a repository from a registry push Push an image or a repository to a registry rename Rename a container restart Restart a container rm Remove one or more containers rmi Remove one or more images run Run a command in a new container save Save one or more images to a tar archive search Search the Docker Hub for images start Start one or more stopped containers stats Display a live stream of container(s) resource usage statistics stop Stop a running container tag Tag an image into a repository top Display the running processes of a container unpause Unpause all processes within a container update Update configuration of one or more containers version Show the Docker version information volume Manage Docker volumes wait Block until a container stops, then print its exit codeTo view the switches available to a specific command, type:dockerdocker-subcommand--helpTo view system-wide information about Docker, use:docker info\",\n",
              "  'source': 'https://clients.hostsailor.com/index.php?rp=/knowledgebase/163/-How-To-Install-and-Use-Docker-on-Ubuntu-16.04.html',\n",
              "  'title': 'How To Install and Use Docker on Ubuntu 16.04',\n",
              "  'type': 'Tutorial',\n",
              "  'chunk_index': 3,\n",
              "  'commands': [],\n",
              "  'tags': ['docker'],\n",
              "  'references': ['https://docs.docker.com',\n",
              "   'https://download.docker.com/linux/ubuntu/gpg',\n",
              "   'https://download.docker.com/linux/ubuntu']},\n",
              " {'id': '3dd4f7de-55dd-41a6-b459-c9d41150645c',\n",
              "  'content': \"Step 4\\n— Working with Docker ImagesDocker containers are run from Docker images. By default, it pulls these images from Docker Hub, a Docker registry managed by Docker, the company behind the Docker project. Anybody can build and host their Docker images on Docker Hub, so most applications and Linux distributions you'll need to run Docker containers have images that are hosted on Docker Hub.To check whether you can access and download images from Docker Hub, type:docker run hello-worldThe output, which should include the following, should indicate that Docker in working correctly:OutputHello from Docker. This message shows that your installation appears to be working correctly. ...You can search for images available on Docker Hub by using thedockercommand with thesearchsubcommand. For example, to search for the Ubuntu image, type:docker search ubuntuThe script will crawl Docker Hub and return a listing of all images whose name match the search string. In this case, the output will be similar to this:OutputNAME DESCRIPTION STARS OFFICIAL AUTOMATED ubuntu Ubuntu is a Debian-based Linux operating s... 3808 [OK] ubuntu-upstart Upstart is an event-based replacement for ... 61 [OK] torusware/speedus-ubuntu Always updated official Ubuntu docker imag... 25 [OK] rastasheep/ubuntu-sshd Dockerized SSH service, built on top of of... 24 [OK] ubuntu-debootstrap debootstrap --variant=minbase --components... 23 [OK] nickistre/ubuntu-lamp LAMP server on Ubuntu 6 [OK] nickistre/ubuntu-lamp-wordpress LAMP on Ubuntu with wp-cli installed 5 [OK] nuagebec/ubuntu Simple always updated Ubuntu docker images... 4 [OK] nimmis/ubuntu This is a docker images different LTS vers... 4 [OK] maxexcloo/ubuntu Docker base image built on Ubuntu with Sup... 2 [OK] admiringworm/ubuntu Base ubuntu images based on the official u... 1 [OK] ...In theOFFICIALcolumn,OKindicates an image built and supported by the company behind the project. Once you've identified the image that you would like to use, you can download it to your computer using thepullsubcommand, like so:docker pull ubuntuAfter an image has been downloaded, you may then run a container using the downloaded image with therunsubcommand. If an image has not been downloaded whendockeris executed with therunsubcommand, the Docker client will first download the image, then run a container using it:docker run ubuntuTo see the images that have been downloaded to your computer, type:docker imagesThe output should look similar to the following:OutputREPOSITORY TAG IMAGE ID CREATED SIZE ubuntu latest c5f1cf30c96b 7 days ago 120.8 MB hello-world latest 94df4f0ce8a4 2 weeks ago 967 BAs you'll see later in this tutorial, images that you use to run containers can be modified and used to generate new images, which may then be uploaded (pushedis the technical term) to Docker Hub or other Docker registries.\",\n",
              "  'source': 'https://clients.hostsailor.com/index.php?rp=/knowledgebase/163/-How-To-Install-and-Use-Docker-on-Ubuntu-16.04.html',\n",
              "  'title': 'How To Install and Use Docker on Ubuntu 16.04',\n",
              "  'type': 'Tutorial',\n",
              "  'chunk_index': 4,\n",
              "  'commands': [],\n",
              "  'tags': ['docker', 'linux', 'ubuntu', 'debian', 'ip', 'wordpress', 'ssh'],\n",
              "  'references': ['https://docs.docker.com',\n",
              "   'https://download.docker.com/linux/ubuntu/gpg',\n",
              "   'https://download.docker.com/linux/ubuntu']},\n",
              " {'id': '41c043d8-5519-4a20-a004-f2c1b5e524ca',\n",
              "  'content': \"Step 5\\n— Running a Docker ContainerThehello-worldcontainer you ran in the previous is an example of a container that runs and exits, after emitting a test message. Containers, however, can be much more useful than that, and they can be interactive. After all, they are similar to virtual machines, only more resource-friendly.As an example, let's run a container using the latest image of Ubuntu. The combination of the-iand-tswitches gives you interactive shell access into the container:docker run -it ubuntuYour command prompt should change to reflect the fact that you're now working inside the container and should take this form:Outputroot@d9b100f2f636:#Important:Note the container id in the command prompt. In the above example, it isd9b100f2f636.Now you may run any command inside the container. For example, let's update the package database inside the container. No need to prefix any command withsudo, because you're operating inside the container with root privileges:apt-get updateThen install any application in it. Let's install NodeJS, for example.apt-get install -y nodejs\",\n",
              "  'source': 'https://clients.hostsailor.com/index.php?rp=/knowledgebase/163/-How-To-Install-and-Use-Docker-on-Ubuntu-16.04.html',\n",
              "  'title': 'How To Install and Use Docker on Ubuntu 16.04',\n",
              "  'type': 'Tutorial',\n",
              "  'chunk_index': 5,\n",
              "  'commands': [],\n",
              "  'tags': ['docker', 'linux', 'ubuntu', 'mac'],\n",
              "  'references': ['https://docs.docker.com',\n",
              "   'https://download.docker.com/linux/ubuntu/gpg',\n",
              "   'https://download.docker.com/linux/ubuntu']},\n",
              " {'id': 'aa8db385-ab84-4697-be10-3265260d4286',\n",
              "  'content': 'Step 6\\n— Committing Changes in a Container to a Docker ImageWhen you start up a Docker image, you can create, modify, and delete files just like you can with a virtual machine. The changes that you make will only apply to that container. You can start and stop it, but once you destroy it with thedocker rmcommand, the changes will be lost for good.This section shows you how to save the state of a container as a new Docker image.After installing nodejs inside the Ubuntu container, you now have a container running off an image, but the container is different from the image you used to create it.To save the state of the container as a new image, first exit from it:exitThen commit the changes to a new Docker image instance using the following command. The-mswitch is for the commit message that helps you and others know what changes you made, while-ais used to specify the author. The container ID is the one you noted earlier in the tutorial when you started the interactive docker session. Unless you created additional repositories on Docker Hub, the repository is usually your Docker Hub username:docker commit -m \"What did you do to the image\" -a \"Author Name\"container-idrepository/new_image_nameFor example:<ul class=\"prefixed\" sty',\n",
              "  'source': 'https://clients.hostsailor.com/index.php?rp=/knowledgebase/163/-How-To-Install-and-Use-Docker-on-Ubuntu-16.04.html',\n",
              "  'title': 'How To Install and Use Docker on Ubuntu 16.04',\n",
              "  'type': 'Tutorial',\n",
              "  'chunk_index': 6,\n",
              "  'commands': [],\n",
              "  'tags': ['docker', 'linux', 'ubuntu', 'mac'],\n",
              "  'references': ['https://docs.docker.com',\n",
              "   'https://download.docker.com/linux/ubuntu/gpg',\n",
              "   'https://download.docker.com/linux/ubuntu']},\n",
              " {'id': 'd4198633-3fd2-4db3-8b75-84acb5098e72',\n",
              "  'content': \"Let's Encrypt is a widely used free SSL certificate provider that can be integrated with most of the hosting control panels. Here I am describing the steps about how to do it on ISP Manager control panel. By default, it won't be available with ISP Manager. We need to install it from the 'Modules' section. Here I am providing the steps to enable and install a certificate.Login to ISP Manager as root.Go to 'Integration' and click on 'Modules'.There you can see the option 'Let’s Encrypt' under the 'Integration' section.Click on install and wait for a minute. It will install it and press OK after.The option will be available under 'Web-server settings' section. Select the 'SSL Certificates' option from there.There you can select the website you need to set the certificate for. Choose the options as per your requirement and press OK.It will take some time to get it activated. Please make sure that the DNS has been pointed to the same server before doing the activation.You can view the video KB for this topic by clickinghere.\",\n",
              "  'source': 'https://clients.hostsailor.com/index.php?rp=/knowledgebase/252/Activate-Letandsharp039s-Encrypt-on-ISP-Manager.html',\n",
              "  'title': \"Activate Let's Encrypt on ISP Manager\",\n",
              "  'type': 'Tutorial',\n",
              "  'chunk_index': 0,\n",
              "  'commands': [],\n",
              "  'tags': ['ssl', 'isp-manager', 'web'],\n",
              "  'references': []},\n",
              " {'id': '490c7ab5-f871-4595-8a01-7dd0a79b0187',\n",
              "  'content': \"The exchange of passwords in plain text format is not at all a safer way nowadays. In case if we need to provide the server passwords, Control panel logins etc. to the support team as a part of troubleshooting any server related issues, we have added a new feature in the client area itself. You can provide the details from your client area and stores the passwords in an encrypted format and so that it will be safe. You can watch the video tutorial of this by clickinghere.Here are the steps to follow:Either we can add the credentials during the time of creating a ticket or we can add it later after creating a ticket.Providing the details during the time of ticket creation:a. Login to your client area.b. Go to Open Ticket option.c. Provide the required details and Submit the ticket.d. There you can see the option 'Submit Credentials' in the next window.e. Click here and there you can add the SSH Logins, Control panel details, FTP details etc. as per the requirement and press Submit/Update Login Credentials Button once you are done.Providing the details after creating a ticket:If you forgot to update the credentials during the time of ticket creation, you can add those from the client area itself by accessing the opened ticket.a. Login to your client area.b. Go to Support > Tickets section.c. Click on the corresponding ticket you need to add the credentials.d. There you can see the 'Submit/Update Credentials' option.e. Click here and there you can add the SSH Logins, Control panel details, FTP details etc. as per the requirement and press Submit/Update Login Credentials Button once you are done.\",\n",
              "  'source': 'https://clients.hostsailor.com/index.php?rp=/knowledgebase/189/Adding-Server-Credentials-from-Client-Area.html',\n",
              "  'title': 'Adding Server Credentials from Client Area',\n",
              "  'type': 'Tutorial',\n",
              "  'chunk_index': 0,\n",
              "  'commands': [],\n",
              "  'tags': ['ssh'],\n",
              "  'references': []},\n",
              " {'id': '8f63ed7b-d08f-49ea-a5b3-649ca59814ad',\n",
              "  'content': \"If we have a dedicated server with Centos 6 or Centos 7 and we need to add a full range of IP's in it, we can do it by adding it as a range by mentioning the start IP and end IP. An example is provided below:If you own 192.168.125.0/24, and you need to add all of the IP's in that range, we can add it like the following:Create a file '' based on which ethernet card you are using.vi the following lines in the file:IPADDR_START=192.168.125.3IPADDR_END=192.168.125.254NETMASK=255.255.255.255CLONENUM_START=1Here you need to replace the start IP and end IP based on what you own.If you needed to add first 100 IP's only, you can set the first IP as192.168.125.3 and end IP as192.168.125.102. But make sure that any IP's in between these are not used somewhere else.3. Once the configuration is added you can restart the network service or reboot the server. It is better to have IPMI access before doing such changes.You can watch the video tutorial for the same by clickinghere.\",\n",
              "  'source': 'https://clients.hostsailor.com/index.php?rp=/knowledgebase/229/Adding-bulk-amount-of-additional-IPandsharp039s-in-CentOS.html',\n",
              "  'title': \"Adding bulk amount of additional IP's in CentOS\",\n",
              "  'type': 'Tutorial',\n",
              "  'chunk_index': 0,\n",
              "  'commands': [],\n",
              "  'tags': ['ip', 'centos'],\n",
              "  'references': []},\n",
              " {'id': '8ff33b79-8c4b-4ffc-ad63-0bfd3dd7ef7a',\n",
              "  'content': 'The Vesta CP is a commonly used web hosting control panel in Linux OS. There is no file manager is there by default in Vesta CP. Here is a simple trick to enable the file manager on the panel.Log in as root to a Vesta installed server via terminal.Open the configuration file using any text editor:vi the following line at the end of that configuration file:FILEMANAGER_KEY=’ILOVEREO’Save and exit the file.Try to log out and re-login to Vesta panel and you will be able to see the file manager option now.You can watch the video KB of this tutorial by clickinghere.',\n",
              "  'source': 'https://clients.hostsailor.com/index.php?rp=/knowledgebase/234/Adding-file-manager-in-VestaCP.html',\n",
              "  'title': 'Adding file manager in VestaCP',\n",
              "  'type': 'Tutorial',\n",
              "  'chunk_index': 0,\n",
              "  'commands': [],\n",
              "  'tags': ['linux', 'web'],\n",
              "  'references': []},\n",
              " {'id': '29dbac8c-69c9-4aff-a462-38450882d104',\n",
              "  'content': 'You can watch the video tutorial for this topic by clickinghere.a. How to create a backup of a cPanel Account via SSH?1. Log-in to the SSH as the Root user.2. Since it will be a time-consuming task, it is better to run it on screen.3. Enter the following command string on the command line interface: usernameThe account backup will be created in the current directory you are in. So please try to run the command from a directory in which the partition has enough free space available.b. How to Restore a cPanel Account via SSH?Log in to the server via SSH and enter the following command from the directory in which the backup files are located. usernameIf the backup file name is not in the standard cPanel format(eg: cpmove-username.tar.gz), you need to specify the filename/path with the command like below: username the cPanel account is already created on the server and you are running the restoration later, you might need to use the force option as well. --forceusername',\n",
              "  'source': 'https://clients.hostsailor.com/index.php?rp=/knowledgebase/162/Backup-and-Restore-cPanel-Accounts-via-SSH.html',\n",
              "  'title': 'Backup and Restore cPanel Accounts via SSH',\n",
              "  'type': 'Tutorial',\n",
              "  'chunk_index': 0,\n",
              "  'commands': [],\n",
              "  'tags': ['ssh'],\n",
              "  'references': []},\n",
              " {'id': 'c995f699-53cd-4d60-aace-4a02daf32f6e',\n",
              "  'content': 'It is very important to keep the server secure from hacking and all kind of unauthorized access. So it is always important to take some time to do these basic steps to secure a Linux server:SSH securitySSH is a widely used secure platform to access the server via terminal. We can take a few measures to secure the SSH configuration.Disable Direct Root Login - It is better to disable the direct root access and permit sudo access to a specific list of users only. It can be configured on ssh configuration file. Also good to use a different SSH port instead of 22.# vi the port to a different one:Port 5613The port might be needed to open in the firewall as well:Centos 6:# iptables -I INPUT -p tcp -m tcp --dport 5613 ACCEPTCentos 7:# firewall-cmd --zone=public --add-port=80/tcp --permanentClick hereto view the video tutorial for the same.Then change the root login settings:PermitRootLogin noAllowUsers #service sshd restartEnable IPTABLES or CSF firewall:It is always advised to block the unwanted ports, IP addresses, etc. using a firewall. If you are familiar with IPTABLES commands, it will be available with most of the OS by default. If you need more custom firewall setup, it is better to set up something like CSF.Keep the packages and kernel updated:It is better to set up auto updates with yum using yum-cron to make sure the packages and kernel are up to date. If auto updates are not configured, do yum update or apt-get update commands in a specific time period to make sure that the server is using the latest packages with security updates.Using secure passwords:Most of the people use some easy to remember passwords of their servers, email accounts, etc. and which make things easier for the hackers as well. It is always advised to use some complex passwords for SSH access, email accounts, and all server related logins.No empty passwords:We can check if any accounts are opened with empty passwords by running the following command:# cat | awk -F: \\'($2==\"\"){print $1}\\'Review logs:We can keep checking on the important logs to make sure no unusual things are happening without our knowledge. Here are some of the important log file locations:# - The current system activities are showing here.# - Mail server related logs.# - Authentication related logs.# - Cronjobs related logs.# - Logs related to the authentications.# - yum logsKeeping Backups:It is always good to keep the backup of your important file, folders, and databases on a different space such as Cloud or local machine, etc. You can use some kind of auto backup options to configure doing this automatically and set the destination as per your convenience.Enable login notifications:It is good to enable some login notifications to get an email when a user has accessed the server via SSH. You can set the following under .bashrc file of the specific user. So if we are setting for root:# vi \\'ALERT - Root Shell Access (ServerName) on:\\' `date` `who` | mail -s \"Alert: Root Access from `who | cut -d\\'(\\' -f2 | cut -d\\')\\' -f1`\"[email protected]',\n",
              "  'source': 'https://clients.hostsailor.com/index.php?rp=/knowledgebase/209/Basic-Security-Steps-on-a-Linux-Server.html',\n",
              "  'title': 'Basic Security Steps on a Linux Server',\n",
              "  'type': 'Tutorial',\n",
              "  'chunk_index': 0,\n",
              "  'commands': [],\n",
              "  'tags': ['linux', 'ip', 'centos', 'email', 'mac', 'ssh'],\n",
              "  'references': []}]"
            ]
          },
          "metadata": {},
          "execution_count": 15
        }
      ]
    },
    {
      "cell_type": "markdown",
      "source": [
        "### save the data into `.json` file for further use."
      ],
      "metadata": {
        "id": "nbbo05h7nX4w"
      }
    },
    {
      "cell_type": "code",
      "source": [
        "import json\n",
        "\n",
        "with open(\"preprocessed_chunks.json\", \"w\", encoding=\"utf-8\") as f:\n",
        "    json.dump(processed_chunks, f, ensure_ascii=False, indent=2)"
      ],
      "metadata": {
        "id": "B2Qem75JkWu1"
      },
      "execution_count": 13,
      "outputs": []
    },
    {
      "cell_type": "code",
      "source": [],
      "metadata": {
        "id": "sQW-EPf6pPnT"
      },
      "execution_count": null,
      "outputs": []
    }
  ]
}